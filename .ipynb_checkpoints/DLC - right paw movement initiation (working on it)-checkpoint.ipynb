{
 "cells": [
  {
   "cell_type": "code",
   "execution_count": 2,
   "id": "177ad623",
   "metadata": {},
   "outputs": [],
   "source": [
    "import pandas as pd\n",
    "import numpy as np"
   ]
  },
  {
   "cell_type": "markdown",
   "id": "0f7f1859",
   "metadata": {},
   "source": [
    "## For now, this analysis is suitable for a single video "
   ]
  },
  {
   "cell_type": "markdown",
   "id": "d07cf098",
   "metadata": {},
   "source": [
    "# 1. Preparing the dataframe for analysis"
   ]
  },
  {
   "cell_type": "code",
   "execution_count": 3,
   "id": "e8044030",
   "metadata": {},
   "outputs": [
    {
     "name": "stderr",
     "output_type": "stream",
     "text": [
      "C:\\Users\\user\\AppData\\Local\\Temp\\ipykernel_15056\\2870801257.py:5: DtypeWarning: Columns (0,1,2,3,4,5,6,7,8,9,10,11,12,13,14,15,16,17,18,19,20,21,22,23,24,25,26,27,28,29,30,31,32,33) have mixed types. Specify dtype option on import or set low_memory=False.\n",
      "  df_video_raw = pd.read_csv(path)\n"
     ]
    },
    {
     "data": {
      "text/html": [
       "<div>\n",
       "<style scoped>\n",
       "    .dataframe tbody tr th:only-of-type {\n",
       "        vertical-align: middle;\n",
       "    }\n",
       "\n",
       "    .dataframe tbody tr th {\n",
       "        vertical-align: top;\n",
       "    }\n",
       "\n",
       "    .dataframe thead th {\n",
       "        text-align: right;\n",
       "    }\n",
       "</style>\n",
       "<table border=\"1\" class=\"dataframe\">\n",
       "  <thead>\n",
       "    <tr style=\"text-align: right;\">\n",
       "      <th></th>\n",
       "      <th>scorer</th>\n",
       "      <th>DLC_resnet50_Dystonia_TestApr21shuffle1_500000</th>\n",
       "      <th>DLC_resnet50_Dystonia_TestApr21shuffle1_500000.1</th>\n",
       "      <th>DLC_resnet50_Dystonia_TestApr21shuffle1_500000.2</th>\n",
       "      <th>DLC_resnet50_Dystonia_TestApr21shuffle1_500000.3</th>\n",
       "      <th>DLC_resnet50_Dystonia_TestApr21shuffle1_500000.4</th>\n",
       "      <th>DLC_resnet50_Dystonia_TestApr21shuffle1_500000.5</th>\n",
       "      <th>DLC_resnet50_Dystonia_TestApr21shuffle1_500000.6</th>\n",
       "      <th>DLC_resnet50_Dystonia_TestApr21shuffle1_500000.7</th>\n",
       "      <th>DLC_resnet50_Dystonia_TestApr21shuffle1_500000.8</th>\n",
       "      <th>...</th>\n",
       "      <th>DLC_resnet50_Dystonia_TestApr21shuffle1_500000.23</th>\n",
       "      <th>DLC_resnet50_Dystonia_TestApr21shuffle1_500000.24</th>\n",
       "      <th>DLC_resnet50_Dystonia_TestApr21shuffle1_500000.25</th>\n",
       "      <th>DLC_resnet50_Dystonia_TestApr21shuffle1_500000.26</th>\n",
       "      <th>DLC_resnet50_Dystonia_TestApr21shuffle1_500000.27</th>\n",
       "      <th>DLC_resnet50_Dystonia_TestApr21shuffle1_500000.28</th>\n",
       "      <th>DLC_resnet50_Dystonia_TestApr21shuffle1_500000.29</th>\n",
       "      <th>DLC_resnet50_Dystonia_TestApr21shuffle1_500000.30</th>\n",
       "      <th>DLC_resnet50_Dystonia_TestApr21shuffle1_500000.31</th>\n",
       "      <th>DLC_resnet50_Dystonia_TestApr21shuffle1_500000.32</th>\n",
       "    </tr>\n",
       "  </thead>\n",
       "  <tbody>\n",
       "    <tr>\n",
       "      <th>0</th>\n",
       "      <td>bodyparts</td>\n",
       "      <td>nose</td>\n",
       "      <td>nose</td>\n",
       "      <td>nose</td>\n",
       "      <td>tailbase</td>\n",
       "      <td>tailbase</td>\n",
       "      <td>tailbase</td>\n",
       "      <td>tailtip</td>\n",
       "      <td>tailtip</td>\n",
       "      <td>tailtip</td>\n",
       "      <td>...</td>\n",
       "      <td>left_frontlimb_heel</td>\n",
       "      <td>right_frontlimb_heel</td>\n",
       "      <td>right_frontlimb_heel</td>\n",
       "      <td>right_frontlimb_heel</td>\n",
       "      <td>left_hindlimb_heel</td>\n",
       "      <td>left_hindlimb_heel</td>\n",
       "      <td>left_hindlimb_heel</td>\n",
       "      <td>right_hindlimb_heel</td>\n",
       "      <td>right_hindlimb_heel</td>\n",
       "      <td>right_hindlimb_heel</td>\n",
       "    </tr>\n",
       "    <tr>\n",
       "      <th>1</th>\n",
       "      <td>coords</td>\n",
       "      <td>x</td>\n",
       "      <td>y</td>\n",
       "      <td>likelihood</td>\n",
       "      <td>x</td>\n",
       "      <td>y</td>\n",
       "      <td>likelihood</td>\n",
       "      <td>x</td>\n",
       "      <td>y</td>\n",
       "      <td>likelihood</td>\n",
       "      <td>...</td>\n",
       "      <td>likelihood</td>\n",
       "      <td>x</td>\n",
       "      <td>y</td>\n",
       "      <td>likelihood</td>\n",
       "      <td>x</td>\n",
       "      <td>y</td>\n",
       "      <td>likelihood</td>\n",
       "      <td>x</td>\n",
       "      <td>y</td>\n",
       "      <td>likelihood</td>\n",
       "    </tr>\n",
       "    <tr>\n",
       "      <th>2</th>\n",
       "      <td>0</td>\n",
       "      <td>156.81517028808594</td>\n",
       "      <td>227.42062377929688</td>\n",
       "      <td>0.9999908208847046</td>\n",
       "      <td>215.99020385742188</td>\n",
       "      <td>111.24932861328125</td>\n",
       "      <td>0.9999423027038574</td>\n",
       "      <td>332.3046569824219</td>\n",
       "      <td>89.1599349975586</td>\n",
       "      <td>0.999987006187439</td>\n",
       "      <td>...</td>\n",
       "      <td>0.7405524849891663</td>\n",
       "      <td>177.1934356689453</td>\n",
       "      <td>176.357177734375</td>\n",
       "      <td>0.9985764026641846</td>\n",
       "      <td>185.60394287109375</td>\n",
       "      <td>113.5218734741211</td>\n",
       "      <td>0.9995613694190979</td>\n",
       "      <td>223.471923828125</td>\n",
       "      <td>119.18599700927734</td>\n",
       "      <td>0.9986182451248169</td>\n",
       "    </tr>\n",
       "    <tr>\n",
       "      <th>3</th>\n",
       "      <td>1</td>\n",
       "      <td>157.75209045410156</td>\n",
       "      <td>233.62486267089844</td>\n",
       "      <td>0.9999220371246338</td>\n",
       "      <td>210.73226928710938</td>\n",
       "      <td>112.2357406616211</td>\n",
       "      <td>0.9999904632568359</td>\n",
       "      <td>327.5301208496094</td>\n",
       "      <td>91.42914581298828</td>\n",
       "      <td>0.9999904632568359</td>\n",
       "      <td>...</td>\n",
       "      <td>0.6753096580505371</td>\n",
       "      <td>176.8835906982422</td>\n",
       "      <td>177.3868865966797</td>\n",
       "      <td>0.9964649677276611</td>\n",
       "      <td>185.43136596679688</td>\n",
       "      <td>115.22527313232422</td>\n",
       "      <td>0.9996032118797302</td>\n",
       "      <td>221.37228393554688</td>\n",
       "      <td>121.25702667236328</td>\n",
       "      <td>0.9991450309753418</td>\n",
       "    </tr>\n",
       "    <tr>\n",
       "      <th>4</th>\n",
       "      <td>2</td>\n",
       "      <td>158.3218994140625</td>\n",
       "      <td>238.5648651123047</td>\n",
       "      <td>0.9999498128890991</td>\n",
       "      <td>207.9359588623047</td>\n",
       "      <td>116.03887176513672</td>\n",
       "      <td>0.9999946355819702</td>\n",
       "      <td>323.7373046875</td>\n",
       "      <td>90.4862060546875</td>\n",
       "      <td>0.9999929666519165</td>\n",
       "      <td>...</td>\n",
       "      <td>0.801797091960907</td>\n",
       "      <td>176.26690673828125</td>\n",
       "      <td>179.20689392089844</td>\n",
       "      <td>0.9974808096885681</td>\n",
       "      <td>184.25473022460938</td>\n",
       "      <td>117.37454986572266</td>\n",
       "      <td>0.9997112154960632</td>\n",
       "      <td>220.41224670410156</td>\n",
       "      <td>125.87255859375</td>\n",
       "      <td>0.9986761212348938</td>\n",
       "    </tr>\n",
       "    <tr>\n",
       "      <th>...</th>\n",
       "      <td>...</td>\n",
       "      <td>...</td>\n",
       "      <td>...</td>\n",
       "      <td>...</td>\n",
       "      <td>...</td>\n",
       "      <td>...</td>\n",
       "      <td>...</td>\n",
       "      <td>...</td>\n",
       "      <td>...</td>\n",
       "      <td>...</td>\n",
       "      <td>...</td>\n",
       "      <td>...</td>\n",
       "      <td>...</td>\n",
       "      <td>...</td>\n",
       "      <td>...</td>\n",
       "      <td>...</td>\n",
       "      <td>...</td>\n",
       "      <td>...</td>\n",
       "      <td>...</td>\n",
       "      <td>...</td>\n",
       "      <td>...</td>\n",
       "    </tr>\n",
       "    <tr>\n",
       "      <th>18861</th>\n",
       "      <td>18859</td>\n",
       "      <td>277.651428</td>\n",
       "      <td>602.929504</td>\n",
       "      <td>0.999897</td>\n",
       "      <td>406.76178</td>\n",
       "      <td>600.632996</td>\n",
       "      <td>0.999962</td>\n",
       "      <td>501.070618</td>\n",
       "      <td>557.580688</td>\n",
       "      <td>0.999965</td>\n",
       "      <td>...</td>\n",
       "      <td>0.695129</td>\n",
       "      <td>311.911316</td>\n",
       "      <td>613.309448</td>\n",
       "      <td>0.998712</td>\n",
       "      <td>372.502045</td>\n",
       "      <td>591.49762</td>\n",
       "      <td>0.999741</td>\n",
       "      <td>385.611816</td>\n",
       "      <td>619.901306</td>\n",
       "      <td>0.99993</td>\n",
       "    </tr>\n",
       "    <tr>\n",
       "      <th>18862</th>\n",
       "      <td>18860</td>\n",
       "      <td>272.492401</td>\n",
       "      <td>602.314514</td>\n",
       "      <td>0.999689</td>\n",
       "      <td>398.61026</td>\n",
       "      <td>600.976257</td>\n",
       "      <td>0.999947</td>\n",
       "      <td>493.576965</td>\n",
       "      <td>558.365112</td>\n",
       "      <td>0.99992</td>\n",
       "      <td>...</td>\n",
       "      <td>0.999795</td>\n",
       "      <td>311.25885</td>\n",
       "      <td>610.952209</td>\n",
       "      <td>0.999878</td>\n",
       "      <td>370.246857</td>\n",
       "      <td>592.276978</td>\n",
       "      <td>0.999876</td>\n",
       "      <td>381.038269</td>\n",
       "      <td>619.697449</td>\n",
       "      <td>0.999218</td>\n",
       "    </tr>\n",
       "    <tr>\n",
       "      <th>18863</th>\n",
       "      <td>18861</td>\n",
       "      <td>264.375183</td>\n",
       "      <td>601.476868</td>\n",
       "      <td>0.998104</td>\n",
       "      <td>391.403473</td>\n",
       "      <td>600.455261</td>\n",
       "      <td>0.999951</td>\n",
       "      <td>491.843628</td>\n",
       "      <td>561.308289</td>\n",
       "      <td>0.99997</td>\n",
       "      <td>...</td>\n",
       "      <td>0.999624</td>\n",
       "      <td>310.951111</td>\n",
       "      <td>610.929993</td>\n",
       "      <td>0.999706</td>\n",
       "      <td>368.038635</td>\n",
       "      <td>590.750549</td>\n",
       "      <td>0.999923</td>\n",
       "      <td>370.081207</td>\n",
       "      <td>621.299377</td>\n",
       "      <td>0.999931</td>\n",
       "    </tr>\n",
       "    <tr>\n",
       "      <th>18864</th>\n",
       "      <td>18862</td>\n",
       "      <td>259.603516</td>\n",
       "      <td>600.533447</td>\n",
       "      <td>0.99984</td>\n",
       "      <td>383.456696</td>\n",
       "      <td>602.452576</td>\n",
       "      <td>0.999967</td>\n",
       "      <td>483.976227</td>\n",
       "      <td>552.448669</td>\n",
       "      <td>0.997826</td>\n",
       "      <td>...</td>\n",
       "      <td>0.993536</td>\n",
       "      <td>310.482635</td>\n",
       "      <td>611.508606</td>\n",
       "      <td>0.999725</td>\n",
       "      <td>366.412292</td>\n",
       "      <td>590.312195</td>\n",
       "      <td>0.999854</td>\n",
       "      <td>351.748993</td>\n",
       "      <td>621.528381</td>\n",
       "      <td>0.999933</td>\n",
       "    </tr>\n",
       "    <tr>\n",
       "      <th>18865</th>\n",
       "      <td>18863</td>\n",
       "      <td>253.309631</td>\n",
       "      <td>601.912109</td>\n",
       "      <td>0.994408</td>\n",
       "      <td>373.778259</td>\n",
       "      <td>603.027222</td>\n",
       "      <td>0.999988</td>\n",
       "      <td>303.720673</td>\n",
       "      <td>642.342529</td>\n",
       "      <td>0.036954</td>\n",
       "      <td>...</td>\n",
       "      <td>0.999917</td>\n",
       "      <td>305.089203</td>\n",
       "      <td>612.134338</td>\n",
       "      <td>0.968497</td>\n",
       "      <td>359.460144</td>\n",
       "      <td>591.910706</td>\n",
       "      <td>0.999387</td>\n",
       "      <td>332.05188</td>\n",
       "      <td>623.106018</td>\n",
       "      <td>0.999856</td>\n",
       "    </tr>\n",
       "  </tbody>\n",
       "</table>\n",
       "<p>18866 rows × 34 columns</p>\n",
       "</div>"
      ],
      "text/plain": [
       "          scorer DLC_resnet50_Dystonia_TestApr21shuffle1_500000  \\\n",
       "0      bodyparts                                           nose   \n",
       "1         coords                                              x   \n",
       "2              0                             156.81517028808594   \n",
       "3              1                             157.75209045410156   \n",
       "4              2                              158.3218994140625   \n",
       "...          ...                                            ...   \n",
       "18861      18859                                     277.651428   \n",
       "18862      18860                                     272.492401   \n",
       "18863      18861                                     264.375183   \n",
       "18864      18862                                     259.603516   \n",
       "18865      18863                                     253.309631   \n",
       "\n",
       "      DLC_resnet50_Dystonia_TestApr21shuffle1_500000.1  \\\n",
       "0                                                 nose   \n",
       "1                                                    y   \n",
       "2                                   227.42062377929688   \n",
       "3                                   233.62486267089844   \n",
       "4                                    238.5648651123047   \n",
       "...                                                ...   \n",
       "18861                                       602.929504   \n",
       "18862                                       602.314514   \n",
       "18863                                       601.476868   \n",
       "18864                                       600.533447   \n",
       "18865                                       601.912109   \n",
       "\n",
       "      DLC_resnet50_Dystonia_TestApr21shuffle1_500000.2  \\\n",
       "0                                                 nose   \n",
       "1                                           likelihood   \n",
       "2                                   0.9999908208847046   \n",
       "3                                   0.9999220371246338   \n",
       "4                                   0.9999498128890991   \n",
       "...                                                ...   \n",
       "18861                                         0.999897   \n",
       "18862                                         0.999689   \n",
       "18863                                         0.998104   \n",
       "18864                                          0.99984   \n",
       "18865                                         0.994408   \n",
       "\n",
       "      DLC_resnet50_Dystonia_TestApr21shuffle1_500000.3  \\\n",
       "0                                             tailbase   \n",
       "1                                                    x   \n",
       "2                                   215.99020385742188   \n",
       "3                                   210.73226928710938   \n",
       "4                                    207.9359588623047   \n",
       "...                                                ...   \n",
       "18861                                        406.76178   \n",
       "18862                                        398.61026   \n",
       "18863                                       391.403473   \n",
       "18864                                       383.456696   \n",
       "18865                                       373.778259   \n",
       "\n",
       "      DLC_resnet50_Dystonia_TestApr21shuffle1_500000.4  \\\n",
       "0                                             tailbase   \n",
       "1                                                    y   \n",
       "2                                   111.24932861328125   \n",
       "3                                    112.2357406616211   \n",
       "4                                   116.03887176513672   \n",
       "...                                                ...   \n",
       "18861                                       600.632996   \n",
       "18862                                       600.976257   \n",
       "18863                                       600.455261   \n",
       "18864                                       602.452576   \n",
       "18865                                       603.027222   \n",
       "\n",
       "      DLC_resnet50_Dystonia_TestApr21shuffle1_500000.5  \\\n",
       "0                                             tailbase   \n",
       "1                                           likelihood   \n",
       "2                                   0.9999423027038574   \n",
       "3                                   0.9999904632568359   \n",
       "4                                   0.9999946355819702   \n",
       "...                                                ...   \n",
       "18861                                         0.999962   \n",
       "18862                                         0.999947   \n",
       "18863                                         0.999951   \n",
       "18864                                         0.999967   \n",
       "18865                                         0.999988   \n",
       "\n",
       "      DLC_resnet50_Dystonia_TestApr21shuffle1_500000.6  \\\n",
       "0                                              tailtip   \n",
       "1                                                    x   \n",
       "2                                    332.3046569824219   \n",
       "3                                    327.5301208496094   \n",
       "4                                       323.7373046875   \n",
       "...                                                ...   \n",
       "18861                                       501.070618   \n",
       "18862                                       493.576965   \n",
       "18863                                       491.843628   \n",
       "18864                                       483.976227   \n",
       "18865                                       303.720673   \n",
       "\n",
       "      DLC_resnet50_Dystonia_TestApr21shuffle1_500000.7  \\\n",
       "0                                              tailtip   \n",
       "1                                                    y   \n",
       "2                                     89.1599349975586   \n",
       "3                                    91.42914581298828   \n",
       "4                                     90.4862060546875   \n",
       "...                                                ...   \n",
       "18861                                       557.580688   \n",
       "18862                                       558.365112   \n",
       "18863                                       561.308289   \n",
       "18864                                       552.448669   \n",
       "18865                                       642.342529   \n",
       "\n",
       "      DLC_resnet50_Dystonia_TestApr21shuffle1_500000.8  ...  \\\n",
       "0                                              tailtip  ...   \n",
       "1                                           likelihood  ...   \n",
       "2                                    0.999987006187439  ...   \n",
       "3                                   0.9999904632568359  ...   \n",
       "4                                   0.9999929666519165  ...   \n",
       "...                                                ...  ...   \n",
       "18861                                         0.999965  ...   \n",
       "18862                                          0.99992  ...   \n",
       "18863                                          0.99997  ...   \n",
       "18864                                         0.997826  ...   \n",
       "18865                                         0.036954  ...   \n",
       "\n",
       "      DLC_resnet50_Dystonia_TestApr21shuffle1_500000.23  \\\n",
       "0                                   left_frontlimb_heel   \n",
       "1                                            likelihood   \n",
       "2                                    0.7405524849891663   \n",
       "3                                    0.6753096580505371   \n",
       "4                                     0.801797091960907   \n",
       "...                                                 ...   \n",
       "18861                                          0.695129   \n",
       "18862                                          0.999795   \n",
       "18863                                          0.999624   \n",
       "18864                                          0.993536   \n",
       "18865                                          0.999917   \n",
       "\n",
       "      DLC_resnet50_Dystonia_TestApr21shuffle1_500000.24  \\\n",
       "0                                  right_frontlimb_heel   \n",
       "1                                                     x   \n",
       "2                                     177.1934356689453   \n",
       "3                                     176.8835906982422   \n",
       "4                                    176.26690673828125   \n",
       "...                                                 ...   \n",
       "18861                                        311.911316   \n",
       "18862                                         311.25885   \n",
       "18863                                        310.951111   \n",
       "18864                                        310.482635   \n",
       "18865                                        305.089203   \n",
       "\n",
       "      DLC_resnet50_Dystonia_TestApr21shuffle1_500000.25  \\\n",
       "0                                  right_frontlimb_heel   \n",
       "1                                                     y   \n",
       "2                                      176.357177734375   \n",
       "3                                     177.3868865966797   \n",
       "4                                    179.20689392089844   \n",
       "...                                                 ...   \n",
       "18861                                        613.309448   \n",
       "18862                                        610.952209   \n",
       "18863                                        610.929993   \n",
       "18864                                        611.508606   \n",
       "18865                                        612.134338   \n",
       "\n",
       "      DLC_resnet50_Dystonia_TestApr21shuffle1_500000.26  \\\n",
       "0                                  right_frontlimb_heel   \n",
       "1                                            likelihood   \n",
       "2                                    0.9985764026641846   \n",
       "3                                    0.9964649677276611   \n",
       "4                                    0.9974808096885681   \n",
       "...                                                 ...   \n",
       "18861                                          0.998712   \n",
       "18862                                          0.999878   \n",
       "18863                                          0.999706   \n",
       "18864                                          0.999725   \n",
       "18865                                          0.968497   \n",
       "\n",
       "      DLC_resnet50_Dystonia_TestApr21shuffle1_500000.27  \\\n",
       "0                                    left_hindlimb_heel   \n",
       "1                                                     x   \n",
       "2                                    185.60394287109375   \n",
       "3                                    185.43136596679688   \n",
       "4                                    184.25473022460938   \n",
       "...                                                 ...   \n",
       "18861                                        372.502045   \n",
       "18862                                        370.246857   \n",
       "18863                                        368.038635   \n",
       "18864                                        366.412292   \n",
       "18865                                        359.460144   \n",
       "\n",
       "      DLC_resnet50_Dystonia_TestApr21shuffle1_500000.28  \\\n",
       "0                                    left_hindlimb_heel   \n",
       "1                                                     y   \n",
       "2                                     113.5218734741211   \n",
       "3                                    115.22527313232422   \n",
       "4                                    117.37454986572266   \n",
       "...                                                 ...   \n",
       "18861                                         591.49762   \n",
       "18862                                        592.276978   \n",
       "18863                                        590.750549   \n",
       "18864                                        590.312195   \n",
       "18865                                        591.910706   \n",
       "\n",
       "      DLC_resnet50_Dystonia_TestApr21shuffle1_500000.29  \\\n",
       "0                                    left_hindlimb_heel   \n",
       "1                                            likelihood   \n",
       "2                                    0.9995613694190979   \n",
       "3                                    0.9996032118797302   \n",
       "4                                    0.9997112154960632   \n",
       "...                                                 ...   \n",
       "18861                                          0.999741   \n",
       "18862                                          0.999876   \n",
       "18863                                          0.999923   \n",
       "18864                                          0.999854   \n",
       "18865                                          0.999387   \n",
       "\n",
       "      DLC_resnet50_Dystonia_TestApr21shuffle1_500000.30  \\\n",
       "0                                   right_hindlimb_heel   \n",
       "1                                                     x   \n",
       "2                                      223.471923828125   \n",
       "3                                    221.37228393554688   \n",
       "4                                    220.41224670410156   \n",
       "...                                                 ...   \n",
       "18861                                        385.611816   \n",
       "18862                                        381.038269   \n",
       "18863                                        370.081207   \n",
       "18864                                        351.748993   \n",
       "18865                                         332.05188   \n",
       "\n",
       "      DLC_resnet50_Dystonia_TestApr21shuffle1_500000.31  \\\n",
       "0                                   right_hindlimb_heel   \n",
       "1                                                     y   \n",
       "2                                    119.18599700927734   \n",
       "3                                    121.25702667236328   \n",
       "4                                       125.87255859375   \n",
       "...                                                 ...   \n",
       "18861                                        619.901306   \n",
       "18862                                        619.697449   \n",
       "18863                                        621.299377   \n",
       "18864                                        621.528381   \n",
       "18865                                        623.106018   \n",
       "\n",
       "      DLC_resnet50_Dystonia_TestApr21shuffle1_500000.32  \n",
       "0                                   right_hindlimb_heel  \n",
       "1                                            likelihood  \n",
       "2                                    0.9986182451248169  \n",
       "3                                    0.9991450309753418  \n",
       "4                                    0.9986761212348938  \n",
       "...                                                 ...  \n",
       "18861                                           0.99993  \n",
       "18862                                          0.999218  \n",
       "18863                                          0.999931  \n",
       "18864                                          0.999933  \n",
       "18865                                          0.999856  \n",
       "\n",
       "[18866 rows x 34 columns]"
      ]
     },
     "execution_count": 3,
     "metadata": {},
     "output_type": "execute_result"
    }
   ],
   "source": [
    "#reading the excel file\n",
    "#path = 'C:\\\\Users\\\\user\\\\Desktop\\\\Labeled_videos_data\\\\Labeled_video_42136_RF_W01.xlsx'\n",
    "path = \"F:\\\\G3\\\\W01\\\\42136_RF\\\\42136_RF_W01VideoProcessed2021-12-07T12_11_59DLC_resnet50_Dystonia_TestApr21shuffle1_500000.csv\"\n",
    "#path = \"C:/Users/user/Desktop/DeepLabCut-master/examples/Dystonia_Test-Diogo_2022_04_21/videos/42136_RF_W01VideoProcessed2021-12-07T12_11_59.avi\"\n",
    "df_video_raw = pd.read_csv(path)\n",
    "df_video_raw"
   ]
  },
  {
   "cell_type": "code",
   "execution_count": 4,
   "id": "5d34452d",
   "metadata": {},
   "outputs": [],
   "source": [
    "df_video_raw = df_video_raw.drop(columns='scorer')"
   ]
  },
  {
   "cell_type": "code",
   "execution_count": 5,
   "id": "a4bc4137",
   "metadata": {},
   "outputs": [],
   "source": [
    "df_video_raw.iloc[0] + ' ' + '(' + df_video_raw.iloc[1] + ')'\n",
    "df_video_raw.iloc[0] = df_video_raw.iloc[0] + ' ' + '(' + df_video_raw.iloc[1] + ')'"
   ]
  },
  {
   "cell_type": "code",
   "execution_count": 6,
   "id": "bec841c8",
   "metadata": {},
   "outputs": [
    {
     "data": {
      "text/html": [
       "<div>\n",
       "<style scoped>\n",
       "    .dataframe tbody tr th:only-of-type {\n",
       "        vertical-align: middle;\n",
       "    }\n",
       "\n",
       "    .dataframe tbody tr th {\n",
       "        vertical-align: top;\n",
       "    }\n",
       "\n",
       "    .dataframe thead th {\n",
       "        text-align: right;\n",
       "    }\n",
       "</style>\n",
       "<table border=\"1\" class=\"dataframe\">\n",
       "  <thead>\n",
       "    <tr style=\"text-align: right;\">\n",
       "      <th></th>\n",
       "      <th>DLC_resnet50_Dystonia_TestApr21shuffle1_500000</th>\n",
       "      <th>DLC_resnet50_Dystonia_TestApr21shuffle1_500000.1</th>\n",
       "      <th>DLC_resnet50_Dystonia_TestApr21shuffle1_500000.2</th>\n",
       "      <th>DLC_resnet50_Dystonia_TestApr21shuffle1_500000.3</th>\n",
       "      <th>DLC_resnet50_Dystonia_TestApr21shuffle1_500000.4</th>\n",
       "      <th>DLC_resnet50_Dystonia_TestApr21shuffle1_500000.5</th>\n",
       "      <th>DLC_resnet50_Dystonia_TestApr21shuffle1_500000.6</th>\n",
       "      <th>DLC_resnet50_Dystonia_TestApr21shuffle1_500000.7</th>\n",
       "      <th>DLC_resnet50_Dystonia_TestApr21shuffle1_500000.8</th>\n",
       "      <th>DLC_resnet50_Dystonia_TestApr21shuffle1_500000.9</th>\n",
       "      <th>...</th>\n",
       "      <th>DLC_resnet50_Dystonia_TestApr21shuffle1_500000.23</th>\n",
       "      <th>DLC_resnet50_Dystonia_TestApr21shuffle1_500000.24</th>\n",
       "      <th>DLC_resnet50_Dystonia_TestApr21shuffle1_500000.25</th>\n",
       "      <th>DLC_resnet50_Dystonia_TestApr21shuffle1_500000.26</th>\n",
       "      <th>DLC_resnet50_Dystonia_TestApr21shuffle1_500000.27</th>\n",
       "      <th>DLC_resnet50_Dystonia_TestApr21shuffle1_500000.28</th>\n",
       "      <th>DLC_resnet50_Dystonia_TestApr21shuffle1_500000.29</th>\n",
       "      <th>DLC_resnet50_Dystonia_TestApr21shuffle1_500000.30</th>\n",
       "      <th>DLC_resnet50_Dystonia_TestApr21shuffle1_500000.31</th>\n",
       "      <th>DLC_resnet50_Dystonia_TestApr21shuffle1_500000.32</th>\n",
       "    </tr>\n",
       "  </thead>\n",
       "  <tbody>\n",
       "    <tr>\n",
       "      <th>0</th>\n",
       "      <td>nose (x)</td>\n",
       "      <td>nose (y)</td>\n",
       "      <td>nose (likelihood)</td>\n",
       "      <td>tailbase (x)</td>\n",
       "      <td>tailbase (y)</td>\n",
       "      <td>tailbase (likelihood)</td>\n",
       "      <td>tailtip (x)</td>\n",
       "      <td>tailtip (y)</td>\n",
       "      <td>tailtip (likelihood)</td>\n",
       "      <td>left_frontlimb_digitaltip (x)</td>\n",
       "      <td>...</td>\n",
       "      <td>left_frontlimb_heel (likelihood)</td>\n",
       "      <td>right_frontlimb_heel (x)</td>\n",
       "      <td>right_frontlimb_heel (y)</td>\n",
       "      <td>right_frontlimb_heel (likelihood)</td>\n",
       "      <td>left_hindlimb_heel (x)</td>\n",
       "      <td>left_hindlimb_heel (y)</td>\n",
       "      <td>left_hindlimb_heel (likelihood)</td>\n",
       "      <td>right_hindlimb_heel (x)</td>\n",
       "      <td>right_hindlimb_heel (y)</td>\n",
       "      <td>right_hindlimb_heel (likelihood)</td>\n",
       "    </tr>\n",
       "    <tr>\n",
       "      <th>2</th>\n",
       "      <td>156.81517028808594</td>\n",
       "      <td>227.42062377929688</td>\n",
       "      <td>0.9999908208847046</td>\n",
       "      <td>215.99020385742188</td>\n",
       "      <td>111.24932861328125</td>\n",
       "      <td>0.9999423027038574</td>\n",
       "      <td>332.3046569824219</td>\n",
       "      <td>89.1599349975586</td>\n",
       "      <td>0.999987006187439</td>\n",
       "      <td>150.19924926757812</td>\n",
       "      <td>...</td>\n",
       "      <td>0.7405524849891663</td>\n",
       "      <td>177.1934356689453</td>\n",
       "      <td>176.357177734375</td>\n",
       "      <td>0.9985764026641846</td>\n",
       "      <td>185.60394287109375</td>\n",
       "      <td>113.5218734741211</td>\n",
       "      <td>0.9995613694190979</td>\n",
       "      <td>223.471923828125</td>\n",
       "      <td>119.18599700927734</td>\n",
       "      <td>0.9986182451248169</td>\n",
       "    </tr>\n",
       "    <tr>\n",
       "      <th>3</th>\n",
       "      <td>157.75209045410156</td>\n",
       "      <td>233.62486267089844</td>\n",
       "      <td>0.9999220371246338</td>\n",
       "      <td>210.73226928710938</td>\n",
       "      <td>112.2357406616211</td>\n",
       "      <td>0.9999904632568359</td>\n",
       "      <td>327.5301208496094</td>\n",
       "      <td>91.42914581298828</td>\n",
       "      <td>0.9999904632568359</td>\n",
       "      <td>144.7239990234375</td>\n",
       "      <td>...</td>\n",
       "      <td>0.6753096580505371</td>\n",
       "      <td>176.8835906982422</td>\n",
       "      <td>177.3868865966797</td>\n",
       "      <td>0.9964649677276611</td>\n",
       "      <td>185.43136596679688</td>\n",
       "      <td>115.22527313232422</td>\n",
       "      <td>0.9996032118797302</td>\n",
       "      <td>221.37228393554688</td>\n",
       "      <td>121.25702667236328</td>\n",
       "      <td>0.9991450309753418</td>\n",
       "    </tr>\n",
       "    <tr>\n",
       "      <th>4</th>\n",
       "      <td>158.3218994140625</td>\n",
       "      <td>238.5648651123047</td>\n",
       "      <td>0.9999498128890991</td>\n",
       "      <td>207.9359588623047</td>\n",
       "      <td>116.03887176513672</td>\n",
       "      <td>0.9999946355819702</td>\n",
       "      <td>323.7373046875</td>\n",
       "      <td>90.4862060546875</td>\n",
       "      <td>0.9999929666519165</td>\n",
       "      <td>142.90089416503906</td>\n",
       "      <td>...</td>\n",
       "      <td>0.801797091960907</td>\n",
       "      <td>176.26690673828125</td>\n",
       "      <td>179.20689392089844</td>\n",
       "      <td>0.9974808096885681</td>\n",
       "      <td>184.25473022460938</td>\n",
       "      <td>117.37454986572266</td>\n",
       "      <td>0.9997112154960632</td>\n",
       "      <td>220.41224670410156</td>\n",
       "      <td>125.87255859375</td>\n",
       "      <td>0.9986761212348938</td>\n",
       "    </tr>\n",
       "    <tr>\n",
       "      <th>5</th>\n",
       "      <td>158.99217224121094</td>\n",
       "      <td>242.77053833007812</td>\n",
       "      <td>0.9999330043792725</td>\n",
       "      <td>205.6700897216797</td>\n",
       "      <td>120.1508560180664</td>\n",
       "      <td>0.9999587535858154</td>\n",
       "      <td>321.2566223144531</td>\n",
       "      <td>93.38030242919922</td>\n",
       "      <td>0.999991774559021</td>\n",
       "      <td>144.06015014648438</td>\n",
       "      <td>...</td>\n",
       "      <td>0.8743040561676025</td>\n",
       "      <td>175.2646026611328</td>\n",
       "      <td>179.50115966796875</td>\n",
       "      <td>0.9958317875862122</td>\n",
       "      <td>182.79759216308594</td>\n",
       "      <td>119.07048797607422</td>\n",
       "      <td>0.9998846054077148</td>\n",
       "      <td>214.05165100097656</td>\n",
       "      <td>130.13595581054688</td>\n",
       "      <td>0.9996895790100098</td>\n",
       "    </tr>\n",
       "    <tr>\n",
       "      <th>...</th>\n",
       "      <td>...</td>\n",
       "      <td>...</td>\n",
       "      <td>...</td>\n",
       "      <td>...</td>\n",
       "      <td>...</td>\n",
       "      <td>...</td>\n",
       "      <td>...</td>\n",
       "      <td>...</td>\n",
       "      <td>...</td>\n",
       "      <td>...</td>\n",
       "      <td>...</td>\n",
       "      <td>...</td>\n",
       "      <td>...</td>\n",
       "      <td>...</td>\n",
       "      <td>...</td>\n",
       "      <td>...</td>\n",
       "      <td>...</td>\n",
       "      <td>...</td>\n",
       "      <td>...</td>\n",
       "      <td>...</td>\n",
       "      <td>...</td>\n",
       "    </tr>\n",
       "    <tr>\n",
       "      <th>18861</th>\n",
       "      <td>277.651428</td>\n",
       "      <td>602.929504</td>\n",
       "      <td>0.999897</td>\n",
       "      <td>406.76178</td>\n",
       "      <td>600.632996</td>\n",
       "      <td>0.999962</td>\n",
       "      <td>501.070618</td>\n",
       "      <td>557.580688</td>\n",
       "      <td>0.999965</td>\n",
       "      <td>296.884399</td>\n",
       "      <td>...</td>\n",
       "      <td>0.695129</td>\n",
       "      <td>311.911316</td>\n",
       "      <td>613.309448</td>\n",
       "      <td>0.998712</td>\n",
       "      <td>372.502045</td>\n",
       "      <td>591.49762</td>\n",
       "      <td>0.999741</td>\n",
       "      <td>385.611816</td>\n",
       "      <td>619.901306</td>\n",
       "      <td>0.99993</td>\n",
       "    </tr>\n",
       "    <tr>\n",
       "      <th>18862</th>\n",
       "      <td>272.492401</td>\n",
       "      <td>602.314514</td>\n",
       "      <td>0.999689</td>\n",
       "      <td>398.61026</td>\n",
       "      <td>600.976257</td>\n",
       "      <td>0.999947</td>\n",
       "      <td>493.576965</td>\n",
       "      <td>558.365112</td>\n",
       "      <td>0.99992</td>\n",
       "      <td>296.710968</td>\n",
       "      <td>...</td>\n",
       "      <td>0.999795</td>\n",
       "      <td>311.25885</td>\n",
       "      <td>610.952209</td>\n",
       "      <td>0.999878</td>\n",
       "      <td>370.246857</td>\n",
       "      <td>592.276978</td>\n",
       "      <td>0.999876</td>\n",
       "      <td>381.038269</td>\n",
       "      <td>619.697449</td>\n",
       "      <td>0.999218</td>\n",
       "    </tr>\n",
       "    <tr>\n",
       "      <th>18863</th>\n",
       "      <td>264.375183</td>\n",
       "      <td>601.476868</td>\n",
       "      <td>0.998104</td>\n",
       "      <td>391.403473</td>\n",
       "      <td>600.455261</td>\n",
       "      <td>0.999951</td>\n",
       "      <td>491.843628</td>\n",
       "      <td>561.308289</td>\n",
       "      <td>0.99997</td>\n",
       "      <td>277.081543</td>\n",
       "      <td>...</td>\n",
       "      <td>0.999624</td>\n",
       "      <td>310.951111</td>\n",
       "      <td>610.929993</td>\n",
       "      <td>0.999706</td>\n",
       "      <td>368.038635</td>\n",
       "      <td>590.750549</td>\n",
       "      <td>0.999923</td>\n",
       "      <td>370.081207</td>\n",
       "      <td>621.299377</td>\n",
       "      <td>0.999931</td>\n",
       "    </tr>\n",
       "    <tr>\n",
       "      <th>18864</th>\n",
       "      <td>259.603516</td>\n",
       "      <td>600.533447</td>\n",
       "      <td>0.99984</td>\n",
       "      <td>383.456696</td>\n",
       "      <td>602.452576</td>\n",
       "      <td>0.999967</td>\n",
       "      <td>483.976227</td>\n",
       "      <td>552.448669</td>\n",
       "      <td>0.997826</td>\n",
       "      <td>268.079773</td>\n",
       "      <td>...</td>\n",
       "      <td>0.993536</td>\n",
       "      <td>310.482635</td>\n",
       "      <td>611.508606</td>\n",
       "      <td>0.999725</td>\n",
       "      <td>366.412292</td>\n",
       "      <td>590.312195</td>\n",
       "      <td>0.999854</td>\n",
       "      <td>351.748993</td>\n",
       "      <td>621.528381</td>\n",
       "      <td>0.999933</td>\n",
       "    </tr>\n",
       "    <tr>\n",
       "      <th>18865</th>\n",
       "      <td>253.309631</td>\n",
       "      <td>601.912109</td>\n",
       "      <td>0.994408</td>\n",
       "      <td>373.778259</td>\n",
       "      <td>603.027222</td>\n",
       "      <td>0.999988</td>\n",
       "      <td>303.720673</td>\n",
       "      <td>642.342529</td>\n",
       "      <td>0.036954</td>\n",
       "      <td>261.803406</td>\n",
       "      <td>...</td>\n",
       "      <td>0.999917</td>\n",
       "      <td>305.089203</td>\n",
       "      <td>612.134338</td>\n",
       "      <td>0.968497</td>\n",
       "      <td>359.460144</td>\n",
       "      <td>591.910706</td>\n",
       "      <td>0.999387</td>\n",
       "      <td>332.05188</td>\n",
       "      <td>623.106018</td>\n",
       "      <td>0.999856</td>\n",
       "    </tr>\n",
       "  </tbody>\n",
       "</table>\n",
       "<p>18865 rows × 33 columns</p>\n",
       "</div>"
      ],
      "text/plain": [
       "      DLC_resnet50_Dystonia_TestApr21shuffle1_500000  \\\n",
       "0                                           nose (x)   \n",
       "2                                 156.81517028808594   \n",
       "3                                 157.75209045410156   \n",
       "4                                  158.3218994140625   \n",
       "5                                 158.99217224121094   \n",
       "...                                              ...   \n",
       "18861                                     277.651428   \n",
       "18862                                     272.492401   \n",
       "18863                                     264.375183   \n",
       "18864                                     259.603516   \n",
       "18865                                     253.309631   \n",
       "\n",
       "      DLC_resnet50_Dystonia_TestApr21shuffle1_500000.1  \\\n",
       "0                                             nose (y)   \n",
       "2                                   227.42062377929688   \n",
       "3                                   233.62486267089844   \n",
       "4                                    238.5648651123047   \n",
       "5                                   242.77053833007812   \n",
       "...                                                ...   \n",
       "18861                                       602.929504   \n",
       "18862                                       602.314514   \n",
       "18863                                       601.476868   \n",
       "18864                                       600.533447   \n",
       "18865                                       601.912109   \n",
       "\n",
       "      DLC_resnet50_Dystonia_TestApr21shuffle1_500000.2  \\\n",
       "0                                    nose (likelihood)   \n",
       "2                                   0.9999908208847046   \n",
       "3                                   0.9999220371246338   \n",
       "4                                   0.9999498128890991   \n",
       "5                                   0.9999330043792725   \n",
       "...                                                ...   \n",
       "18861                                         0.999897   \n",
       "18862                                         0.999689   \n",
       "18863                                         0.998104   \n",
       "18864                                          0.99984   \n",
       "18865                                         0.994408   \n",
       "\n",
       "      DLC_resnet50_Dystonia_TestApr21shuffle1_500000.3  \\\n",
       "0                                         tailbase (x)   \n",
       "2                                   215.99020385742188   \n",
       "3                                   210.73226928710938   \n",
       "4                                    207.9359588623047   \n",
       "5                                    205.6700897216797   \n",
       "...                                                ...   \n",
       "18861                                        406.76178   \n",
       "18862                                        398.61026   \n",
       "18863                                       391.403473   \n",
       "18864                                       383.456696   \n",
       "18865                                       373.778259   \n",
       "\n",
       "      DLC_resnet50_Dystonia_TestApr21shuffle1_500000.4  \\\n",
       "0                                         tailbase (y)   \n",
       "2                                   111.24932861328125   \n",
       "3                                    112.2357406616211   \n",
       "4                                   116.03887176513672   \n",
       "5                                    120.1508560180664   \n",
       "...                                                ...   \n",
       "18861                                       600.632996   \n",
       "18862                                       600.976257   \n",
       "18863                                       600.455261   \n",
       "18864                                       602.452576   \n",
       "18865                                       603.027222   \n",
       "\n",
       "      DLC_resnet50_Dystonia_TestApr21shuffle1_500000.5  \\\n",
       "0                                tailbase (likelihood)   \n",
       "2                                   0.9999423027038574   \n",
       "3                                   0.9999904632568359   \n",
       "4                                   0.9999946355819702   \n",
       "5                                   0.9999587535858154   \n",
       "...                                                ...   \n",
       "18861                                         0.999962   \n",
       "18862                                         0.999947   \n",
       "18863                                         0.999951   \n",
       "18864                                         0.999967   \n",
       "18865                                         0.999988   \n",
       "\n",
       "      DLC_resnet50_Dystonia_TestApr21shuffle1_500000.6  \\\n",
       "0                                          tailtip (x)   \n",
       "2                                    332.3046569824219   \n",
       "3                                    327.5301208496094   \n",
       "4                                       323.7373046875   \n",
       "5                                    321.2566223144531   \n",
       "...                                                ...   \n",
       "18861                                       501.070618   \n",
       "18862                                       493.576965   \n",
       "18863                                       491.843628   \n",
       "18864                                       483.976227   \n",
       "18865                                       303.720673   \n",
       "\n",
       "      DLC_resnet50_Dystonia_TestApr21shuffle1_500000.7  \\\n",
       "0                                          tailtip (y)   \n",
       "2                                     89.1599349975586   \n",
       "3                                    91.42914581298828   \n",
       "4                                     90.4862060546875   \n",
       "5                                    93.38030242919922   \n",
       "...                                                ...   \n",
       "18861                                       557.580688   \n",
       "18862                                       558.365112   \n",
       "18863                                       561.308289   \n",
       "18864                                       552.448669   \n",
       "18865                                       642.342529   \n",
       "\n",
       "      DLC_resnet50_Dystonia_TestApr21shuffle1_500000.8  \\\n",
       "0                                 tailtip (likelihood)   \n",
       "2                                    0.999987006187439   \n",
       "3                                   0.9999904632568359   \n",
       "4                                   0.9999929666519165   \n",
       "5                                    0.999991774559021   \n",
       "...                                                ...   \n",
       "18861                                         0.999965   \n",
       "18862                                          0.99992   \n",
       "18863                                          0.99997   \n",
       "18864                                         0.997826   \n",
       "18865                                         0.036954   \n",
       "\n",
       "      DLC_resnet50_Dystonia_TestApr21shuffle1_500000.9  ...  \\\n",
       "0                        left_frontlimb_digitaltip (x)  ...   \n",
       "2                                   150.19924926757812  ...   \n",
       "3                                    144.7239990234375  ...   \n",
       "4                                   142.90089416503906  ...   \n",
       "5                                   144.06015014648438  ...   \n",
       "...                                                ...  ...   \n",
       "18861                                       296.884399  ...   \n",
       "18862                                       296.710968  ...   \n",
       "18863                                       277.081543  ...   \n",
       "18864                                       268.079773  ...   \n",
       "18865                                       261.803406  ...   \n",
       "\n",
       "      DLC_resnet50_Dystonia_TestApr21shuffle1_500000.23  \\\n",
       "0                      left_frontlimb_heel (likelihood)   \n",
       "2                                    0.7405524849891663   \n",
       "3                                    0.6753096580505371   \n",
       "4                                     0.801797091960907   \n",
       "5                                    0.8743040561676025   \n",
       "...                                                 ...   \n",
       "18861                                          0.695129   \n",
       "18862                                          0.999795   \n",
       "18863                                          0.999624   \n",
       "18864                                          0.993536   \n",
       "18865                                          0.999917   \n",
       "\n",
       "      DLC_resnet50_Dystonia_TestApr21shuffle1_500000.24  \\\n",
       "0                              right_frontlimb_heel (x)   \n",
       "2                                     177.1934356689453   \n",
       "3                                     176.8835906982422   \n",
       "4                                    176.26690673828125   \n",
       "5                                     175.2646026611328   \n",
       "...                                                 ...   \n",
       "18861                                        311.911316   \n",
       "18862                                         311.25885   \n",
       "18863                                        310.951111   \n",
       "18864                                        310.482635   \n",
       "18865                                        305.089203   \n",
       "\n",
       "      DLC_resnet50_Dystonia_TestApr21shuffle1_500000.25  \\\n",
       "0                              right_frontlimb_heel (y)   \n",
       "2                                      176.357177734375   \n",
       "3                                     177.3868865966797   \n",
       "4                                    179.20689392089844   \n",
       "5                                    179.50115966796875   \n",
       "...                                                 ...   \n",
       "18861                                        613.309448   \n",
       "18862                                        610.952209   \n",
       "18863                                        610.929993   \n",
       "18864                                        611.508606   \n",
       "18865                                        612.134338   \n",
       "\n",
       "      DLC_resnet50_Dystonia_TestApr21shuffle1_500000.26  \\\n",
       "0                     right_frontlimb_heel (likelihood)   \n",
       "2                                    0.9985764026641846   \n",
       "3                                    0.9964649677276611   \n",
       "4                                    0.9974808096885681   \n",
       "5                                    0.9958317875862122   \n",
       "...                                                 ...   \n",
       "18861                                          0.998712   \n",
       "18862                                          0.999878   \n",
       "18863                                          0.999706   \n",
       "18864                                          0.999725   \n",
       "18865                                          0.968497   \n",
       "\n",
       "      DLC_resnet50_Dystonia_TestApr21shuffle1_500000.27  \\\n",
       "0                                left_hindlimb_heel (x)   \n",
       "2                                    185.60394287109375   \n",
       "3                                    185.43136596679688   \n",
       "4                                    184.25473022460938   \n",
       "5                                    182.79759216308594   \n",
       "...                                                 ...   \n",
       "18861                                        372.502045   \n",
       "18862                                        370.246857   \n",
       "18863                                        368.038635   \n",
       "18864                                        366.412292   \n",
       "18865                                        359.460144   \n",
       "\n",
       "      DLC_resnet50_Dystonia_TestApr21shuffle1_500000.28  \\\n",
       "0                                left_hindlimb_heel (y)   \n",
       "2                                     113.5218734741211   \n",
       "3                                    115.22527313232422   \n",
       "4                                    117.37454986572266   \n",
       "5                                    119.07048797607422   \n",
       "...                                                 ...   \n",
       "18861                                         591.49762   \n",
       "18862                                        592.276978   \n",
       "18863                                        590.750549   \n",
       "18864                                        590.312195   \n",
       "18865                                        591.910706   \n",
       "\n",
       "      DLC_resnet50_Dystonia_TestApr21shuffle1_500000.29  \\\n",
       "0                       left_hindlimb_heel (likelihood)   \n",
       "2                                    0.9995613694190979   \n",
       "3                                    0.9996032118797302   \n",
       "4                                    0.9997112154960632   \n",
       "5                                    0.9998846054077148   \n",
       "...                                                 ...   \n",
       "18861                                          0.999741   \n",
       "18862                                          0.999876   \n",
       "18863                                          0.999923   \n",
       "18864                                          0.999854   \n",
       "18865                                          0.999387   \n",
       "\n",
       "      DLC_resnet50_Dystonia_TestApr21shuffle1_500000.30  \\\n",
       "0                               right_hindlimb_heel (x)   \n",
       "2                                      223.471923828125   \n",
       "3                                    221.37228393554688   \n",
       "4                                    220.41224670410156   \n",
       "5                                    214.05165100097656   \n",
       "...                                                 ...   \n",
       "18861                                        385.611816   \n",
       "18862                                        381.038269   \n",
       "18863                                        370.081207   \n",
       "18864                                        351.748993   \n",
       "18865                                         332.05188   \n",
       "\n",
       "      DLC_resnet50_Dystonia_TestApr21shuffle1_500000.31  \\\n",
       "0                               right_hindlimb_heel (y)   \n",
       "2                                    119.18599700927734   \n",
       "3                                    121.25702667236328   \n",
       "4                                       125.87255859375   \n",
       "5                                    130.13595581054688   \n",
       "...                                                 ...   \n",
       "18861                                        619.901306   \n",
       "18862                                        619.697449   \n",
       "18863                                        621.299377   \n",
       "18864                                        621.528381   \n",
       "18865                                        623.106018   \n",
       "\n",
       "      DLC_resnet50_Dystonia_TestApr21shuffle1_500000.32  \n",
       "0                      right_hindlimb_heel (likelihood)  \n",
       "2                                    0.9986182451248169  \n",
       "3                                    0.9991450309753418  \n",
       "4                                    0.9986761212348938  \n",
       "5                                    0.9996895790100098  \n",
       "...                                                 ...  \n",
       "18861                                           0.99993  \n",
       "18862                                          0.999218  \n",
       "18863                                          0.999931  \n",
       "18864                                          0.999933  \n",
       "18865                                          0.999856  \n",
       "\n",
       "[18865 rows x 33 columns]"
      ]
     },
     "execution_count": 6,
     "metadata": {},
     "output_type": "execute_result"
    }
   ],
   "source": [
    "df_video_raw.drop(index=1)"
   ]
  },
  {
   "cell_type": "code",
   "execution_count": 7,
   "id": "c7907623",
   "metadata": {},
   "outputs": [],
   "source": [
    "df_video_raw.columns = df_video_raw.iloc[0]"
   ]
  },
  {
   "cell_type": "code",
   "execution_count": 8,
   "id": "1e802de6",
   "metadata": {},
   "outputs": [],
   "source": [
    "df_video_raw = df_video_raw.drop(index=0)"
   ]
  },
  {
   "cell_type": "code",
   "execution_count": 9,
   "id": "4750cd57",
   "metadata": {},
   "outputs": [],
   "source": [
    "df_video_raw = df_video_raw.drop(index=1)"
   ]
  },
  {
   "cell_type": "code",
   "execution_count": 10,
   "id": "efd95e27",
   "metadata": {},
   "outputs": [],
   "source": [
    "df_video_raw.reset_index(inplace = True, drop = True)"
   ]
  },
  {
   "cell_type": "code",
   "execution_count": 11,
   "id": "e00ef1a5",
   "metadata": {},
   "outputs": [
    {
     "data": {
      "text/html": [
       "<div>\n",
       "<style scoped>\n",
       "    .dataframe tbody tr th:only-of-type {\n",
       "        vertical-align: middle;\n",
       "    }\n",
       "\n",
       "    .dataframe tbody tr th {\n",
       "        vertical-align: top;\n",
       "    }\n",
       "\n",
       "    .dataframe thead th {\n",
       "        text-align: right;\n",
       "    }\n",
       "</style>\n",
       "<table border=\"1\" class=\"dataframe\">\n",
       "  <thead>\n",
       "    <tr style=\"text-align: right;\">\n",
       "      <th></th>\n",
       "      <th>nose (x)</th>\n",
       "      <th>nose (y)</th>\n",
       "      <th>nose (likelihood)</th>\n",
       "      <th>tailbase (x)</th>\n",
       "      <th>tailbase (y)</th>\n",
       "      <th>tailbase (likelihood)</th>\n",
       "      <th>tailtip (x)</th>\n",
       "      <th>tailtip (y)</th>\n",
       "      <th>tailtip (likelihood)</th>\n",
       "      <th>left_frontlimb_digitaltip (x)</th>\n",
       "      <th>...</th>\n",
       "      <th>left_frontlimb_heel (likelihood)</th>\n",
       "      <th>right_frontlimb_heel (x)</th>\n",
       "      <th>right_frontlimb_heel (y)</th>\n",
       "      <th>right_frontlimb_heel (likelihood)</th>\n",
       "      <th>left_hindlimb_heel (x)</th>\n",
       "      <th>left_hindlimb_heel (y)</th>\n",
       "      <th>left_hindlimb_heel (likelihood)</th>\n",
       "      <th>right_hindlimb_heel (x)</th>\n",
       "      <th>right_hindlimb_heel (y)</th>\n",
       "      <th>right_hindlimb_heel (likelihood)</th>\n",
       "    </tr>\n",
       "  </thead>\n",
       "  <tbody>\n",
       "    <tr>\n",
       "      <th>0</th>\n",
       "      <td>156.81517028808594</td>\n",
       "      <td>227.42062377929688</td>\n",
       "      <td>0.9999908208847046</td>\n",
       "      <td>215.99020385742188</td>\n",
       "      <td>111.24932861328125</td>\n",
       "      <td>0.9999423027038574</td>\n",
       "      <td>332.3046569824219</td>\n",
       "      <td>89.1599349975586</td>\n",
       "      <td>0.999987006187439</td>\n",
       "      <td>150.19924926757812</td>\n",
       "      <td>...</td>\n",
       "      <td>0.7405524849891663</td>\n",
       "      <td>177.1934356689453</td>\n",
       "      <td>176.357177734375</td>\n",
       "      <td>0.9985764026641846</td>\n",
       "      <td>185.60394287109375</td>\n",
       "      <td>113.5218734741211</td>\n",
       "      <td>0.9995613694190979</td>\n",
       "      <td>223.471923828125</td>\n",
       "      <td>119.18599700927734</td>\n",
       "      <td>0.9986182451248169</td>\n",
       "    </tr>\n",
       "    <tr>\n",
       "      <th>1</th>\n",
       "      <td>157.75209045410156</td>\n",
       "      <td>233.62486267089844</td>\n",
       "      <td>0.9999220371246338</td>\n",
       "      <td>210.73226928710938</td>\n",
       "      <td>112.2357406616211</td>\n",
       "      <td>0.9999904632568359</td>\n",
       "      <td>327.5301208496094</td>\n",
       "      <td>91.42914581298828</td>\n",
       "      <td>0.9999904632568359</td>\n",
       "      <td>144.7239990234375</td>\n",
       "      <td>...</td>\n",
       "      <td>0.6753096580505371</td>\n",
       "      <td>176.8835906982422</td>\n",
       "      <td>177.3868865966797</td>\n",
       "      <td>0.9964649677276611</td>\n",
       "      <td>185.43136596679688</td>\n",
       "      <td>115.22527313232422</td>\n",
       "      <td>0.9996032118797302</td>\n",
       "      <td>221.37228393554688</td>\n",
       "      <td>121.25702667236328</td>\n",
       "      <td>0.9991450309753418</td>\n",
       "    </tr>\n",
       "    <tr>\n",
       "      <th>2</th>\n",
       "      <td>158.3218994140625</td>\n",
       "      <td>238.5648651123047</td>\n",
       "      <td>0.9999498128890991</td>\n",
       "      <td>207.9359588623047</td>\n",
       "      <td>116.03887176513672</td>\n",
       "      <td>0.9999946355819702</td>\n",
       "      <td>323.7373046875</td>\n",
       "      <td>90.4862060546875</td>\n",
       "      <td>0.9999929666519165</td>\n",
       "      <td>142.90089416503906</td>\n",
       "      <td>...</td>\n",
       "      <td>0.801797091960907</td>\n",
       "      <td>176.26690673828125</td>\n",
       "      <td>179.20689392089844</td>\n",
       "      <td>0.9974808096885681</td>\n",
       "      <td>184.25473022460938</td>\n",
       "      <td>117.37454986572266</td>\n",
       "      <td>0.9997112154960632</td>\n",
       "      <td>220.41224670410156</td>\n",
       "      <td>125.87255859375</td>\n",
       "      <td>0.9986761212348938</td>\n",
       "    </tr>\n",
       "    <tr>\n",
       "      <th>3</th>\n",
       "      <td>158.99217224121094</td>\n",
       "      <td>242.77053833007812</td>\n",
       "      <td>0.9999330043792725</td>\n",
       "      <td>205.6700897216797</td>\n",
       "      <td>120.1508560180664</td>\n",
       "      <td>0.9999587535858154</td>\n",
       "      <td>321.2566223144531</td>\n",
       "      <td>93.38030242919922</td>\n",
       "      <td>0.999991774559021</td>\n",
       "      <td>144.06015014648438</td>\n",
       "      <td>...</td>\n",
       "      <td>0.8743040561676025</td>\n",
       "      <td>175.2646026611328</td>\n",
       "      <td>179.50115966796875</td>\n",
       "      <td>0.9958317875862122</td>\n",
       "      <td>182.79759216308594</td>\n",
       "      <td>119.07048797607422</td>\n",
       "      <td>0.9998846054077148</td>\n",
       "      <td>214.05165100097656</td>\n",
       "      <td>130.13595581054688</td>\n",
       "      <td>0.9996895790100098</td>\n",
       "    </tr>\n",
       "    <tr>\n",
       "      <th>4</th>\n",
       "      <td>158.80953979492188</td>\n",
       "      <td>249.2820587158203</td>\n",
       "      <td>0.9998996257781982</td>\n",
       "      <td>206.18299865722656</td>\n",
       "      <td>124.50706481933594</td>\n",
       "      <td>0.9999895095825195</td>\n",
       "      <td>320.52764892578125</td>\n",
       "      <td>96.21192169189453</td>\n",
       "      <td>0.9999947547912598</td>\n",
       "      <td>143.8984832763672</td>\n",
       "      <td>...</td>\n",
       "      <td>0.8569060564041138</td>\n",
       "      <td>175.1579132080078</td>\n",
       "      <td>181.18983459472656</td>\n",
       "      <td>0.9971824884414673</td>\n",
       "      <td>183.60081481933594</td>\n",
       "      <td>120.43485260009766</td>\n",
       "      <td>0.9998810291290283</td>\n",
       "      <td>209.25721740722656</td>\n",
       "      <td>142.65602111816406</td>\n",
       "      <td>0.9997555613517761</td>\n",
       "    </tr>\n",
       "    <tr>\n",
       "      <th>...</th>\n",
       "      <td>...</td>\n",
       "      <td>...</td>\n",
       "      <td>...</td>\n",
       "      <td>...</td>\n",
       "      <td>...</td>\n",
       "      <td>...</td>\n",
       "      <td>...</td>\n",
       "      <td>...</td>\n",
       "      <td>...</td>\n",
       "      <td>...</td>\n",
       "      <td>...</td>\n",
       "      <td>...</td>\n",
       "      <td>...</td>\n",
       "      <td>...</td>\n",
       "      <td>...</td>\n",
       "      <td>...</td>\n",
       "      <td>...</td>\n",
       "      <td>...</td>\n",
       "      <td>...</td>\n",
       "      <td>...</td>\n",
       "      <td>...</td>\n",
       "    </tr>\n",
       "    <tr>\n",
       "      <th>18859</th>\n",
       "      <td>277.651428</td>\n",
       "      <td>602.929504</td>\n",
       "      <td>0.999897</td>\n",
       "      <td>406.76178</td>\n",
       "      <td>600.632996</td>\n",
       "      <td>0.999962</td>\n",
       "      <td>501.070618</td>\n",
       "      <td>557.580688</td>\n",
       "      <td>0.999965</td>\n",
       "      <td>296.884399</td>\n",
       "      <td>...</td>\n",
       "      <td>0.695129</td>\n",
       "      <td>311.911316</td>\n",
       "      <td>613.309448</td>\n",
       "      <td>0.998712</td>\n",
       "      <td>372.502045</td>\n",
       "      <td>591.49762</td>\n",
       "      <td>0.999741</td>\n",
       "      <td>385.611816</td>\n",
       "      <td>619.901306</td>\n",
       "      <td>0.99993</td>\n",
       "    </tr>\n",
       "    <tr>\n",
       "      <th>18860</th>\n",
       "      <td>272.492401</td>\n",
       "      <td>602.314514</td>\n",
       "      <td>0.999689</td>\n",
       "      <td>398.61026</td>\n",
       "      <td>600.976257</td>\n",
       "      <td>0.999947</td>\n",
       "      <td>493.576965</td>\n",
       "      <td>558.365112</td>\n",
       "      <td>0.99992</td>\n",
       "      <td>296.710968</td>\n",
       "      <td>...</td>\n",
       "      <td>0.999795</td>\n",
       "      <td>311.25885</td>\n",
       "      <td>610.952209</td>\n",
       "      <td>0.999878</td>\n",
       "      <td>370.246857</td>\n",
       "      <td>592.276978</td>\n",
       "      <td>0.999876</td>\n",
       "      <td>381.038269</td>\n",
       "      <td>619.697449</td>\n",
       "      <td>0.999218</td>\n",
       "    </tr>\n",
       "    <tr>\n",
       "      <th>18861</th>\n",
       "      <td>264.375183</td>\n",
       "      <td>601.476868</td>\n",
       "      <td>0.998104</td>\n",
       "      <td>391.403473</td>\n",
       "      <td>600.455261</td>\n",
       "      <td>0.999951</td>\n",
       "      <td>491.843628</td>\n",
       "      <td>561.308289</td>\n",
       "      <td>0.99997</td>\n",
       "      <td>277.081543</td>\n",
       "      <td>...</td>\n",
       "      <td>0.999624</td>\n",
       "      <td>310.951111</td>\n",
       "      <td>610.929993</td>\n",
       "      <td>0.999706</td>\n",
       "      <td>368.038635</td>\n",
       "      <td>590.750549</td>\n",
       "      <td>0.999923</td>\n",
       "      <td>370.081207</td>\n",
       "      <td>621.299377</td>\n",
       "      <td>0.999931</td>\n",
       "    </tr>\n",
       "    <tr>\n",
       "      <th>18862</th>\n",
       "      <td>259.603516</td>\n",
       "      <td>600.533447</td>\n",
       "      <td>0.99984</td>\n",
       "      <td>383.456696</td>\n",
       "      <td>602.452576</td>\n",
       "      <td>0.999967</td>\n",
       "      <td>483.976227</td>\n",
       "      <td>552.448669</td>\n",
       "      <td>0.997826</td>\n",
       "      <td>268.079773</td>\n",
       "      <td>...</td>\n",
       "      <td>0.993536</td>\n",
       "      <td>310.482635</td>\n",
       "      <td>611.508606</td>\n",
       "      <td>0.999725</td>\n",
       "      <td>366.412292</td>\n",
       "      <td>590.312195</td>\n",
       "      <td>0.999854</td>\n",
       "      <td>351.748993</td>\n",
       "      <td>621.528381</td>\n",
       "      <td>0.999933</td>\n",
       "    </tr>\n",
       "    <tr>\n",
       "      <th>18863</th>\n",
       "      <td>253.309631</td>\n",
       "      <td>601.912109</td>\n",
       "      <td>0.994408</td>\n",
       "      <td>373.778259</td>\n",
       "      <td>603.027222</td>\n",
       "      <td>0.999988</td>\n",
       "      <td>303.720673</td>\n",
       "      <td>642.342529</td>\n",
       "      <td>0.036954</td>\n",
       "      <td>261.803406</td>\n",
       "      <td>...</td>\n",
       "      <td>0.999917</td>\n",
       "      <td>305.089203</td>\n",
       "      <td>612.134338</td>\n",
       "      <td>0.968497</td>\n",
       "      <td>359.460144</td>\n",
       "      <td>591.910706</td>\n",
       "      <td>0.999387</td>\n",
       "      <td>332.05188</td>\n",
       "      <td>623.106018</td>\n",
       "      <td>0.999856</td>\n",
       "    </tr>\n",
       "  </tbody>\n",
       "</table>\n",
       "<p>18864 rows × 33 columns</p>\n",
       "</div>"
      ],
      "text/plain": [
       "0                nose (x)            nose (y)   nose (likelihood)  \\\n",
       "0      156.81517028808594  227.42062377929688  0.9999908208847046   \n",
       "1      157.75209045410156  233.62486267089844  0.9999220371246338   \n",
       "2       158.3218994140625   238.5648651123047  0.9999498128890991   \n",
       "3      158.99217224121094  242.77053833007812  0.9999330043792725   \n",
       "4      158.80953979492188   249.2820587158203  0.9998996257781982   \n",
       "...                   ...                 ...                 ...   \n",
       "18859          277.651428          602.929504            0.999897   \n",
       "18860          272.492401          602.314514            0.999689   \n",
       "18861          264.375183          601.476868            0.998104   \n",
       "18862          259.603516          600.533447             0.99984   \n",
       "18863          253.309631          601.912109            0.994408   \n",
       "\n",
       "0            tailbase (x)        tailbase (y) tailbase (likelihood)  \\\n",
       "0      215.99020385742188  111.24932861328125    0.9999423027038574   \n",
       "1      210.73226928710938   112.2357406616211    0.9999904632568359   \n",
       "2       207.9359588623047  116.03887176513672    0.9999946355819702   \n",
       "3       205.6700897216797   120.1508560180664    0.9999587535858154   \n",
       "4      206.18299865722656  124.50706481933594    0.9999895095825195   \n",
       "...                   ...                 ...                   ...   \n",
       "18859           406.76178          600.632996              0.999962   \n",
       "18860           398.61026          600.976257              0.999947   \n",
       "18861          391.403473          600.455261              0.999951   \n",
       "18862          383.456696          602.452576              0.999967   \n",
       "18863          373.778259          603.027222              0.999988   \n",
       "\n",
       "0             tailtip (x)        tailtip (y) tailtip (likelihood)  \\\n",
       "0       332.3046569824219   89.1599349975586    0.999987006187439   \n",
       "1       327.5301208496094  91.42914581298828   0.9999904632568359   \n",
       "2          323.7373046875   90.4862060546875   0.9999929666519165   \n",
       "3       321.2566223144531  93.38030242919922    0.999991774559021   \n",
       "4      320.52764892578125  96.21192169189453   0.9999947547912598   \n",
       "...                   ...                ...                  ...   \n",
       "18859          501.070618         557.580688             0.999965   \n",
       "18860          493.576965         558.365112              0.99992   \n",
       "18861          491.843628         561.308289              0.99997   \n",
       "18862          483.976227         552.448669             0.997826   \n",
       "18863          303.720673         642.342529             0.036954   \n",
       "\n",
       "0     left_frontlimb_digitaltip (x)  ... left_frontlimb_heel (likelihood)  \\\n",
       "0                150.19924926757812  ...               0.7405524849891663   \n",
       "1                 144.7239990234375  ...               0.6753096580505371   \n",
       "2                142.90089416503906  ...                0.801797091960907   \n",
       "3                144.06015014648438  ...               0.8743040561676025   \n",
       "4                 143.8984832763672  ...               0.8569060564041138   \n",
       "...                             ...  ...                              ...   \n",
       "18859                    296.884399  ...                         0.695129   \n",
       "18860                    296.710968  ...                         0.999795   \n",
       "18861                    277.081543  ...                         0.999624   \n",
       "18862                    268.079773  ...                         0.993536   \n",
       "18863                    261.803406  ...                         0.999917   \n",
       "\n",
       "0     right_frontlimb_heel (x) right_frontlimb_heel (y)  \\\n",
       "0            177.1934356689453         176.357177734375   \n",
       "1            176.8835906982422        177.3868865966797   \n",
       "2           176.26690673828125       179.20689392089844   \n",
       "3            175.2646026611328       179.50115966796875   \n",
       "4            175.1579132080078       181.18983459472656   \n",
       "...                        ...                      ...   \n",
       "18859               311.911316               613.309448   \n",
       "18860                311.25885               610.952209   \n",
       "18861               310.951111               610.929993   \n",
       "18862               310.482635               611.508606   \n",
       "18863               305.089203               612.134338   \n",
       "\n",
       "0     right_frontlimb_heel (likelihood) left_hindlimb_heel (x)  \\\n",
       "0                    0.9985764026641846     185.60394287109375   \n",
       "1                    0.9964649677276611     185.43136596679688   \n",
       "2                    0.9974808096885681     184.25473022460938   \n",
       "3                    0.9958317875862122     182.79759216308594   \n",
       "4                    0.9971824884414673     183.60081481933594   \n",
       "...                                 ...                    ...   \n",
       "18859                          0.998712             372.502045   \n",
       "18860                          0.999878             370.246857   \n",
       "18861                          0.999706             368.038635   \n",
       "18862                          0.999725             366.412292   \n",
       "18863                          0.968497             359.460144   \n",
       "\n",
       "0     left_hindlimb_heel (y) left_hindlimb_heel (likelihood)  \\\n",
       "0          113.5218734741211              0.9995613694190979   \n",
       "1         115.22527313232422              0.9996032118797302   \n",
       "2         117.37454986572266              0.9997112154960632   \n",
       "3         119.07048797607422              0.9998846054077148   \n",
       "4         120.43485260009766              0.9998810291290283   \n",
       "...                      ...                             ...   \n",
       "18859              591.49762                        0.999741   \n",
       "18860             592.276978                        0.999876   \n",
       "18861             590.750549                        0.999923   \n",
       "18862             590.312195                        0.999854   \n",
       "18863             591.910706                        0.999387   \n",
       "\n",
       "0     right_hindlimb_heel (x) right_hindlimb_heel (y)  \\\n",
       "0            223.471923828125      119.18599700927734   \n",
       "1          221.37228393554688      121.25702667236328   \n",
       "2          220.41224670410156         125.87255859375   \n",
       "3          214.05165100097656      130.13595581054688   \n",
       "4          209.25721740722656      142.65602111816406   \n",
       "...                       ...                     ...   \n",
       "18859              385.611816              619.901306   \n",
       "18860              381.038269              619.697449   \n",
       "18861              370.081207              621.299377   \n",
       "18862              351.748993              621.528381   \n",
       "18863               332.05188              623.106018   \n",
       "\n",
       "0     right_hindlimb_heel (likelihood)  \n",
       "0                   0.9986182451248169  \n",
       "1                   0.9991450309753418  \n",
       "2                   0.9986761212348938  \n",
       "3                   0.9996895790100098  \n",
       "4                   0.9997555613517761  \n",
       "...                                ...  \n",
       "18859                          0.99993  \n",
       "18860                         0.999218  \n",
       "18861                         0.999931  \n",
       "18862                         0.999933  \n",
       "18863                         0.999856  \n",
       "\n",
       "[18864 rows x 33 columns]"
      ]
     },
     "execution_count": 11,
     "metadata": {},
     "output_type": "execute_result"
    }
   ],
   "source": [
    "df_video_raw"
   ]
  },
  {
   "cell_type": "markdown",
   "id": "6e5dc7bf",
   "metadata": {},
   "source": [
    "We can now start pre processing the raw signal"
   ]
  },
  {
   "cell_type": "markdown",
   "id": "c742a0b5",
   "metadata": {},
   "source": [
    "# 2. Smoothing the predictions"
   ]
  },
  {
   "cell_type": "markdown",
   "id": "bb840a64",
   "metadata": {},
   "source": [
    "Start by creating a new dataframe with the raw values (for the right hind paw)"
   ]
  },
  {
   "cell_type": "markdown",
   "id": "c10a3f52",
   "metadata": {},
   "source": [
    "Once the network is ready, do the same operations on the filtered data from the DLC"
   ]
  },
  {
   "cell_type": "code",
   "execution_count": null,
   "id": "e08db01f",
   "metadata": {},
   "outputs": [],
   "source": [
    "# test for the right hind paw\n",
    "# SMA - simple moving average \n",
    "df_video_raw_test = df_video_raw[['right_hindlimb_heel (x)','right_hindlimb_heel (y)','right_hindlimb_digitaltip (x)','right_hindlimb_digitaltip (y)']]\n",
    "df_video_raw_test"
   ]
  },
  {
   "cell_type": "markdown",
   "id": "def46ab1",
   "metadata": {},
   "source": [
    "Then, create new columns with the values subjected to smoothing algorithms:\n",
    "1. Simple moving average\n",
    "2. Exponential moving average"
   ]
  },
  {
   "cell_type": "markdown",
   "id": "e5e56a24",
   "metadata": {},
   "source": [
    "### Simple moving average"
   ]
  },
  {
   "cell_type": "code",
   "execution_count": null,
   "id": "1de46726",
   "metadata": {
    "scrolled": true
   },
   "outputs": [],
   "source": [
    "for column in df_video_raw_test.columns:\n",
    "    print('SMA: ' + column)"
   ]
  },
  {
   "cell_type": "code",
   "execution_count": null,
   "id": "7294f00b",
   "metadata": {
    "scrolled": true
   },
   "outputs": [],
   "source": [
    "for column in df_video_raw_test.columns:\n",
    "    df_video_raw_test['SMA10: '+column] = df_video_raw_test[column].rolling(10, min_periods=1).mean()\n",
    "df_video_raw_test"
   ]
  },
  {
   "cell_type": "code",
   "execution_count": null,
   "id": "3995413d",
   "metadata": {},
   "outputs": [],
   "source": [
    "import matplotlib.pyplot as plt\n",
    "\n",
    "%matplotlib inline"
   ]
  },
  {
   "cell_type": "markdown",
   "id": "e102eb32",
   "metadata": {},
   "source": [
    "Overall view of the effect on the whole signal"
   ]
  },
  {
   "cell_type": "code",
   "execution_count": null,
   "id": "fb53399e",
   "metadata": {
    "scrolled": true
   },
   "outputs": [],
   "source": [
    "plt.style.use('seaborn')\n",
    "\n",
    "# colors for the line plot\n",
    "colors = ['green', 'purple']\n",
    "\n",
    "# line plot\n",
    "df_video_raw_test[['right_hindlimb_heel (x)', 'SMA10: right_hindlimb_heel (x)']].plot(color=colors, linewidth=3, figsize=(24,6))\n",
    "\n",
    "# modify ticks size\n",
    "plt.xticks(fontsize=14)\n",
    "plt.yticks(fontsize=14)\n",
    "plt.legend(labels=['Right hind paw heel (x)', '10-frames SMA'], fontsize=14)\n",
    "\n",
    "# title and labels\n",
    "plt.title('Testing the simple moving average', fontsize=20)\n",
    "plt.xlabel('Frames', fontsize=16)\n",
    "plt.ylabel('X (pixels)', fontsize=16)"
   ]
  },
  {
   "cell_type": "markdown",
   "id": "6b0f386c",
   "metadata": {},
   "source": [
    "Sliding plot to better visualize changes (at the proper scale)"
   ]
  },
  {
   "cell_type": "code",
   "execution_count": null,
   "id": "415a445b",
   "metadata": {},
   "outputs": [],
   "source": [
    "# Import libraries using import keyword\n",
    "import numpy as np\n",
    "import matplotlib.pyplot as plt\n",
    "from matplotlib.widgets import Slider, Button, RadioButtons\n",
    "import scipy.ndimage as ndi\n",
    "%matplotlib tk\n",
    "# Setting Plot and Axis variables as subplots()\n",
    "# function returns tuple(fig, ax)\n",
    "Plot, Axis = plt.subplots()\n",
    " \n",
    "# Adjust the bottom size according to the\n",
    "# requirement of the user\n",
    "plt.subplots_adjust(bottom=0.25)\n",
    "\n",
    "# colors for the line plot\n",
    "colors = ['green', 'red', 'purple'] \n",
    "\n",
    "shift=0 #shifts the signal in y, if you want to have a better notion of each signal\n",
    "df_video_raw_test['right_hindlimb_heel (x)'].astype(float, errors='raise').plot(linewidth=3, figsize=(24,6))\n",
    "#df_video_raw_test['SMA10: right_hindlimb_heel (x)'].astype(float, errors='raise').plot(linewidth=3, figsize=(24,6))\n",
    "#df_video_raw_test['SMA20: right_hindlimb_heel (x)'].astype(float, errors='raise').plot(linewidth=3, figsize=(24,6))\n",
    "(df_video_raw_test['SMA10: right_hindlimb_heel (x)'].astype(float, errors='raise')+shift).plot(linewidth=3, figsize=(24,6))\n",
    "\n",
    "# Choose the Slider color\n",
    "slider_color = 'White'\n",
    " \n",
    "# Set the axis and slider position in the plot\n",
    "axis_position = plt.axes([0.2, 0.1, 0.65, 0.03],\n",
    "                         facecolor = slider_color)\n",
    "slider_position = Slider(axis_position,\n",
    "                         'Pos', 0, len(df_video_raw_test))\n",
    " \n",
    "# update() function to change the graph when the\n",
    "# slider is in use\n",
    "def update(val):\n",
    "    pos = slider_position.val\n",
    "    Axis.axis([pos, pos+200, 0, 900])\n",
    "    Plot.canvas.draw_idle()\n",
    " \n",
    "    # update function called using on_changed() function\n",
    "slider_position.on_changed(update)"
   ]
  },
  {
   "cell_type": "markdown",
   "id": "61a84f99",
   "metadata": {},
   "source": [
    "### Exponential moving average "
   ]
  },
  {
   "cell_type": "markdown",
   "id": "45a59c0c",
   "metadata": {},
   "source": [
    "Doesn't look good"
   ]
  },
  {
   "cell_type": "code",
   "execution_count": null,
   "id": "91252ffc",
   "metadata": {},
   "outputs": [],
   "source": [
    "for column in df_video_raw_test.columns:\n",
    "    if 'SMA' not in column:\n",
    "        print('EMA: '+column)"
   ]
  },
  {
   "cell_type": "code",
   "execution_count": null,
   "id": "1d49d12b",
   "metadata": {},
   "outputs": [],
   "source": [
    "for column in df_video_raw_test.columns:\n",
    "    if 'SMA' not in column:\n",
    "        df_video_raw_test['EMA0.1: '+column] = df_video_raw_test[column].ewm(alpha=0.1, adjust=False).mean()\n",
    "        df_video_raw_test['EMA0.3: '+column] = df_video_raw_test[column].ewm(alpha=0.3, adjust=False).mean()\n",
    "df_video_raw_test"
   ]
  },
  {
   "cell_type": "code",
   "execution_count": null,
   "id": "87c3c60c",
   "metadata": {},
   "outputs": [],
   "source": [
    "df_video_raw_test.columns"
   ]
  },
  {
   "cell_type": "code",
   "execution_count": null,
   "id": "da19d3d9",
   "metadata": {
    "scrolled": false
   },
   "outputs": [],
   "source": [
    "# colors for the line plot\n",
    "colors = ['green', 'orchid', 'orange']\n",
    "\n",
    "# line plot\n",
    "df_video_raw_test[['right_hindlimb_heel (x)', 'EMA0.1: right_hindlimb_heel (x)', 'EMA0.3: right_hindlimb_heel (x)']].plot(color=colors, linewidth=3, figsize=(24,6), alpha=0.8)\n",
    "\n",
    "# modify ticks size\n",
    "plt.xticks(fontsize=14)\n",
    "plt.yticks(fontsize=14)\n",
    "plt.legend(labels=['Right hind paw heel (x)', 'EMA - alpha=0.1', 'EMA - alpha=0.3'], fontsize=14)\n",
    "\n",
    "# title and labels\n",
    "plt.title('...', fontsize=20)\n",
    "plt.xlabel('Frame', fontsize=16)\n",
    "plt.ylabel('X (pixels)', fontsize=16)"
   ]
  },
  {
   "cell_type": "code",
   "execution_count": null,
   "id": "5362f616",
   "metadata": {},
   "outputs": [],
   "source": [
    "# Import libraries using import keyword\n",
    "import numpy as np\n",
    "import matplotlib.pyplot as plt\n",
    "from matplotlib.widgets import Slider, Button, RadioButtons\n",
    "import scipy.ndimage as ndi\n",
    "%matplotlib tk\n",
    "# Setting Plot and Axis variables as subplots()\n",
    "# function returns tuple(fig, ax)\n",
    "Plot, Axis = plt.subplots()\n",
    " \n",
    "# Adjust the bottom size according to the\n",
    "# requirement of the user\n",
    "plt.subplots_adjust(bottom=0.25)\n",
    "\n",
    "# colors for the line plot\n",
    "colors = ['green', 'red', 'purple'] \n",
    "\n",
    "df_video_raw_test['right_hindlimb_heel (x)'].astype(float, errors='raise').plot(linewidth=3, figsize=(24,6))\n",
    "#df_video_raw_test['EMA0.1: right_hindlimb_heel (x)'].astype(float, errors='raise').plot(linewidth=3, figsize=(24,6))\n",
    "df_video_raw_test['EMA0.3: right_hindlimb_heel (x)'].astype(float, errors='raise').plot(linewidth=3, figsize=(24,6))\n",
    "#(df_video_raw_test['EMA10: right_hindlimb_heel (x)'].astype(float, errors='raise')+100).plot(linewidth=3, figsize=(24,6))\n",
    "\n",
    "# Choose the Slider color\n",
    "slider_color = 'White'\n",
    " \n",
    "# Set the axis and slider position in the plot\n",
    "axis_position = plt.axes([0.2, 0.1, 0.65, 0.03],\n",
    "                         facecolor = slider_color)\n",
    "slider_position = Slider(axis_position,\n",
    "                         'Pos', 0, len(df_video_raw_test))\n",
    " \n",
    "# update() function to change the graph when the\n",
    "# slider is in use\n",
    "def update(val):\n",
    "    pos = slider_position.val\n",
    "    Axis.axis([pos, pos+200, 0, 900])\n",
    "    Plot.canvas.draw_idle()\n",
    " \n",
    "    # update function called using on_changed() function\n",
    "slider_position.on_changed(update)"
   ]
  },
  {
   "cell_type": "code",
   "execution_count": null,
   "id": "cb219375",
   "metadata": {},
   "outputs": [],
   "source": [
    "# get the time of a specific frame you want to see in the video\n",
    "rate = 30\n",
    "frame = 768\n",
    "time_sec = frame/30\n",
    "\n",
    "import datetime\n",
    "str(datetime.timedelta(seconds=time_sec))"
   ]
  },
  {
   "cell_type": "code",
   "execution_count": null,
   "id": "8edd987d",
   "metadata": {},
   "outputs": [],
   "source": [
    "# 5 min 35 sec\n",
    "min_ = 0\n",
    "sec_ = 35\n",
    "time_sec = min_*60 + sec_ \n",
    "frame = time_sec*30\n",
    "frame"
   ]
  },
  {
   "cell_type": "markdown",
   "id": "6ab45280",
   "metadata": {},
   "source": [
    "# 3. Calculate the x and y components of the velocity for each body part"
   ]
  },
  {
   "cell_type": "markdown",
   "id": "71517fd3",
   "metadata": {},
   "source": [
    "Let's choose the simple moving average with a window of 10 frames"
   ]
  },
  {
   "cell_type": "code",
   "execution_count": null,
   "id": "bb03cedc",
   "metadata": {},
   "outputs": [],
   "source": [
    "df_vel = df_video_raw_test\n",
    "df_vel"
   ]
  },
  {
   "cell_type": "code",
   "execution_count": null,
   "id": "ad556b9e",
   "metadata": {},
   "outputs": [],
   "source": [
    "#convert the values to float\n",
    "for col in df_vel:\n",
    "    df_vel[col] = pd.to_numeric(df_vel[col], downcast=\"float\")"
   ]
  },
  {
   "cell_type": "code",
   "execution_count": null,
   "id": "69434560",
   "metadata": {},
   "outputs": [],
   "source": [
    "# add a new column with the center of the paw (average of heel and digital tip)\n",
    "# for that, start by creating 4 new columns...\n",
    "df_vel['right hind paw (x)'] = (df_vel['right_hindlimb_heel (x)']+df_vel['right_hindlimb_digitaltip (x)'])/2\n",
    "df_vel['right hind paw (y)'] = (df_vel['right_hindlimb_heel (y)']+df_vel['right_hindlimb_digitaltip (y)'])/2\n",
    "df_vel['SMA: right hind paw (x)'] = (df_vel['SMA10: right_hindlimb_heel (x)']+df_vel['SMA10: right_hindlimb_digitaltip (x)'])/2\n",
    "df_vel['SMA: right hind paw (y)'] = (df_vel['SMA10: right_hindlimb_digitaltip (y)']+df_vel['SMA10: right_hindlimb_digitaltip (y)'])/2\n",
    "\n",
    "df_vel"
   ]
  },
  {
   "cell_type": "code",
   "execution_count": null,
   "id": "b3c919ad",
   "metadata": {
    "scrolled": true
   },
   "outputs": [],
   "source": [
    "# .diff() gives the difference between the values from the current and the previous rows\n",
    "df_diff = df_vel.astype(float).diff()\n",
    "df_diff"
   ]
  },
  {
   "cell_type": "code",
   "execution_count": null,
   "id": "64c47946",
   "metadata": {
    "scrolled": true
   },
   "outputs": [],
   "source": [
    "# fill the first row with the same values from the second row (index1)\n",
    "index=0\n",
    "for col in df_diff.columns:\n",
    "    df_diff.at[index, col]=df_diff.at[index+1, col]\n",
    "df_diff"
   ]
  },
  {
   "cell_type": "code",
   "execution_count": null,
   "id": "2f715cf0",
   "metadata": {
    "scrolled": false
   },
   "outputs": [],
   "source": [
    "my_list=[]\n",
    "for col in df_diff.columns:\n",
    "    my_list.append('Vel - ' + col)\n",
    "my_list"
   ]
  },
  {
   "cell_type": "code",
   "execution_count": null,
   "id": "e63c56be",
   "metadata": {
    "scrolled": true
   },
   "outputs": [],
   "source": [
    "# dataframe with velocity in pixels/frame\n",
    "df_diff.columns = my_list\n",
    "df_diff"
   ]
  },
  {
   "cell_type": "code",
   "execution_count": null,
   "id": "f30770e3",
   "metadata": {},
   "outputs": [],
   "source": [
    "#convert the values to float\n",
    "for col in df_diff:\n",
    "    df_diff[col] = pd.to_numeric(df_diff[col], downcast=\"float\")"
   ]
  },
  {
   "cell_type": "code",
   "execution_count": null,
   "id": "70dab632",
   "metadata": {},
   "outputs": [],
   "source": [
    "import numpy as np\n",
    "# create 2 new columns relative to the absolute velocity,v_xy of the heel and the digital tip, raw and smoothed\n",
    "V_xy_rpaw = np.sqrt(df_diff['Vel - right hind paw (x)']**2+df_diff['Vel - right hind paw (y)']**2)\n",
    "V_xy_rpaw_SMA = np.sqrt(df_diff['Vel - SMA: right hind paw (x)']**2+df_diff['Vel - SMA: right hind paw (y)']**2)"
   ]
  },
  {
   "cell_type": "code",
   "execution_count": null,
   "id": "02d0ff91",
   "metadata": {
    "scrolled": true
   },
   "outputs": [],
   "source": [
    "df_diff['V_xy_rpaw'] = V_xy_rpaw\n",
    "df_diff['V_xy_rpaw_SMA'] = V_xy_rpaw_SMA\n",
    "# show the updated dataframe\n",
    "df_diff"
   ]
  },
  {
   "cell_type": "code",
   "execution_count": null,
   "id": "8bf9449e",
   "metadata": {},
   "outputs": [],
   "source": [
    "import seaborn as sns\n",
    "df_diff['V_xy_rpaw_SMA'].describe()\n",
    "ax = sns.kdeplot(df_diff['V_xy_rpaw_SMA'], log_scale=True)\n",
    "#try kde and distplot also\n",
    "ax"
   ]
  },
  {
   "cell_type": "code",
   "execution_count": null,
   "id": "1ae6860a",
   "metadata": {},
   "outputs": [],
   "source": [
    "# Import libraries using import keyword\n",
    "import numpy as np\n",
    "import matplotlib.pyplot as plt\n",
    "from matplotlib.widgets import Slider, Button, RadioButtons\n",
    "import scipy.ndimage as ndi\n",
    "%matplotlib tk\n",
    "# Setting Plot and Axis variables as subplots()\n",
    "# function returns tuple(fig, ax)\n",
    "Plot, Axis = plt.subplots()\n",
    " \n",
    "# Adjust the bottom size according to the\n",
    "# requirement of the user\n",
    "plt.subplots_adjust(bottom=0.25)\n",
    "\n",
    "df_diff['V_xy_rpaw'].astype(float, errors='raise').plot(linewidth=3, figsize=(24,6), color='green')\n",
    "df_diff['V_xy_rpaw_SMA'].astype(float, errors='raise').plot(linewidth=3, figsize=(24,6), color='blue')\n",
    "\n",
    "# Choose the Slider color\n",
    "slider_color = 'White'\n",
    " \n",
    "# Set the axis and slider position in the plot\n",
    "axis_position = plt.axes([0.2, 0.1, 0.65, 0.03],\n",
    "                         facecolor = slider_color)\n",
    "slider_position = Slider(axis_position,\n",
    "                         'Pos', 0, len(df_video_raw_test))\n",
    " \n",
    "# update() function to change the graph when the\n",
    "# slider is in use\n",
    "def update(val):\n",
    "    pos = slider_position.val\n",
    "    Axis.axis([pos, pos+200, 0, 120])\n",
    "    Plot.canvas.draw_idle()\n",
    " \n",
    "    # update function called using on_changed() function\n",
    "slider_position.on_changed(update)"
   ]
  },
  {
   "cell_type": "markdown",
   "id": "c86615fc",
   "metadata": {},
   "source": [
    "# 4.1. Obtain movement initiations with the right paw "
   ]
  },
  {
   "cell_type": "markdown",
   "id": "8bf263c6",
   "metadata": {},
   "source": [
    "A better approach (based on the distribution of velocities) can be found bellow"
   ]
  },
  {
   "cell_type": "code",
   "execution_count": null,
   "id": "75ca9104",
   "metadata": {},
   "outputs": [],
   "source": [
    "# example: consider a movement initiation every time the velocity raises above 3* the standard deviation for that case \n",
    "df_diff[['V_xy_rpaw','V_xy_rpaw_SMA']].std()"
   ]
  },
  {
   "cell_type": "code",
   "execution_count": null,
   "id": "f6e6955f",
   "metadata": {},
   "outputs": [],
   "source": [
    "# Import libraries using import keyword\n",
    "import numpy as np\n",
    "import matplotlib.pyplot as plt\n",
    "from matplotlib.widgets import Slider, Button, RadioButtons\n",
    "import scipy.ndimage as ndi\n",
    "%matplotlib tk\n",
    "# Setting Plot and Axis variables as subplots()\n",
    "# function returns tuple(fig, ax)\n",
    "Plot, Axis = plt.subplots()\n",
    " \n",
    "# Adjust the bottom size according to the\n",
    "# requirement of the user\n",
    "plt.subplots_adjust(bottom=0.25)\n",
    "\n",
    "#df_diff['V_xy_rpaw'].astype(float, errors='raise').plot(linewidth=3, figsize=(24,6), color='green')\n",
    "df_diff['V_xy_rpaw_SMA'].astype(float, errors='raise').plot(linewidth=3, figsize=(12,6), color='blue')\n",
    "\n",
    "# also plot the standard deviations of both signals\n",
    "#plt.axhline(y=df_diff['V_xy_rpaw'].std(), color = 'green', linestyle = '-')\n",
    "plt.axhline(y=df_diff['V_xy_rpaw_SMA'].std(), color = 'blue', linestyle = '-')\n",
    "\n",
    "# Choose the Slider color\n",
    "slider_color = 'White'\n",
    " \n",
    "# Set the axis and slider position in the plot\n",
    "axis_position = plt.axes([0.2, 0.1, 0.65, 0.03],\n",
    "                         facecolor = slider_color)\n",
    "slider_position = Slider(axis_position,\n",
    "                         'Pos', 0, len(df_video_raw_test))\n",
    " \n",
    "# update() function to change the graph when the\n",
    "# slider is in use\n",
    "def update(val):\n",
    "    pos = slider_position.val\n",
    "    Axis.axis([pos, pos+200, 0, 120])\n",
    "    Plot.canvas.draw_idle()\n",
    " \n",
    "    # update function called using on_changed() function\n",
    "slider_position.on_changed(update)"
   ]
  },
  {
   "cell_type": "markdown",
   "id": "f8409215",
   "metadata": {},
   "source": [
    "1. I will attempt to identify moment of movement initition using the right paw\n",
    "2. I will consider it to be the frames (with a phase shift needing correction) in which the velocity of the paw raises above a strandard deviation of the velocity during the video"
   ]
  },
  {
   "cell_type": "code",
   "execution_count": null,
   "id": "7f56c4ca",
   "metadata": {
    "scrolled": true
   },
   "outputs": [],
   "source": [
    "# get the frames in which the velocity raises above the standard deviation\n",
    "initiations_right_paw = []\n",
    "for frame in range(len(df_diff)):\n",
    "    if df_diff['V_xy_rpaw_SMA'][frame] < df_diff['V_xy_rpaw_SMA'].std() and df_diff['V_xy_rpaw_SMA'][frame+1] > df_diff['V_xy_rpaw_SMA'].std():\n",
    "        initiations_right_paw.append(frame)\n",
    "initiations_right_paw"
   ]
  },
  {
   "cell_type": "markdown",
   "id": "efb976b6",
   "metadata": {},
   "source": [
    "# 4.2.1 Obtain movement initiations with the right paw (middle point)"
   ]
  },
  {
   "cell_type": "markdown",
   "id": "9826fbfc",
   "metadata": {},
   "source": [
    "Use a log distribution to check for a double peak distribution"
   ]
  },
  {
   "cell_type": "code",
   "execution_count": null,
   "id": "4a461f3d",
   "metadata": {
    "scrolled": true
   },
   "outputs": [],
   "source": [
    "# this time: consider a movement initiation every time the velocity raises above \n",
    "# ... the beginning of a local minimum in the log distribution of velocities\n",
    "# ... the local minimum is to be found in the valley forming the two peaks of\n",
    "# ... the log_scale distribution\n",
    "\n",
    "import seaborn as sns\n",
    "import numpy as np\n",
    "import matplotlib.pyplot as plt\n",
    "\n",
    "ax1 = sns.kdeplot(df_diff['V_xy_rpaw'], log_scale = True)\n",
    "ax2 = sns.kdeplot(df_diff['V_xy_rpaw_SMA'], log_scale = True)\n",
    "\n",
    "kde_curve1 = ax1.lines[0]\n",
    "kde_curve2 = ax2.lines[1]\n",
    "\n",
    "x1 = kde_curve1.get_xdata()\n",
    "y1 = kde_curve1.get_ydata()\n",
    "\n",
    "x2 = kde_curve2.get_xdata()\n",
    "y2 = kde_curve2.get_ydata()\n",
    "\n",
    "plt.plot(x1, y1, color='green')\n",
    "plt.plot(x2, y2, color='blue')\n",
    "\n",
    "peaks1 = np.where((y1[1:-1] > y1[0:-2]) * (y1[1:-1] > y1[2:]))[0] + 1\n",
    "dips1 = np.where((y1[1:-1] < y1[0:-2]) * (y1[1:-1] < y1[2:]))[0] + 1\n",
    "\n",
    "peaks2 = np.where((y2[1:-1] > y2[0:-2]) * (y2[1:-1] > y2[2:]))[0] + 1\n",
    "dips2 = np.where((y2[1:-1] < y2[0:-2]) * (y2[1:-1] < y2[2:]))[0] + 1\n",
    "\n",
    "'''plt.plot (x1, y1)\n",
    "plt.plot (x1[peaks1], y1[peaks1], 'o')\n",
    "plt.plot (x1[dips1], y1[dips1], 'o')\n",
    "plt.show()\n",
    "\n",
    "plt.plot (x2, y2)\n",
    "plt.plot (x2[peaks2], y2[peaks2], 'o')\n",
    "plt.plot (x2[dips2], y2[dips2], 'o')\n",
    "plt.show()'''\n",
    "\n",
    "print('Each kde plot has 200 points!')\n",
    "print('The local maxima are at the following positions (of the raw data plot line!): {}'.format(peaks1))\n",
    "print('The local minima are at the following positions (of the raw data plot line!): {}'.format(dips1))\n",
    "print('The local maxima are at the following positions (of the SMA plot line!): {}'.format(peaks2))\n",
    "print('The local minima are at the following positions (of the SMA plot line!): {}'.format(dips2))\n",
    "\n",
    "for i in range(len(peaks1)):\n",
    "    if y1[[peaks1[-(i+1)]]] - y1[dips1[-i]] > 0.2:\n",
    "        cutOff1 = x1[dips1[-1]]\n",
    "        break\n",
    "cutOff1 #this value establishes the velocity treshold from which an initiation involving the right paw will be counted\n",
    "for i in range(len(peaks2)):\n",
    "    if y2[[peaks2[-(i+1)]]] - y2[dips2[-i]] > 0.2:\n",
    "        cutOff2 = x2[dips2[-1]]\n",
    "        break\n",
    "print('Our cutOff1 for this mice will be: {}'.format(cutOff1))\n",
    "print('Our cutOff2 for this mice will be: {}'.format(cutOff2))"
   ]
  },
  {
   "cell_type": "code",
   "execution_count": null,
   "id": "aad5b656",
   "metadata": {},
   "outputs": [],
   "source": [
    "# Import libraries using import keyword\n",
    "import numpy as np\n",
    "import matplotlib.pyplot as plt\n",
    "from matplotlib.widgets import Slider, Button, RadioButtons\n",
    "import scipy.ndimage as ndi\n",
    "%matplotlib tk\n",
    "# Setting Plot and Axis variables as subplots()\n",
    "# function returns tuple(fig, ax)\n",
    "Plot, Axis = plt.subplots()\n",
    " \n",
    "# Adjust the bottom size according to the requirement of the user\n",
    "plt.subplots_adjust(bottom=0.25)\n",
    "\n",
    "df_diff['V_xy_rpaw'].astype(float, errors='raise').plot(linewidth=3, figsize=(12,6), color='green')\n",
    "df_diff['V_xy_rpaw_SMA'].astype(float, errors='raise').plot(linewidth=3, figsize=(12,6), color='blue')\n",
    "\n",
    "#cutOff=? # this value is calculated in the previous cell/s\n",
    "plt.axhline(y=cutOff1, color = 'green', linestyle = '-')\n",
    "plt.axhline(y=cutOff2, color = 'blue', linestyle = '-')\n",
    "\n",
    "# Choose the Slider color\n",
    "slider_color = 'White'\n",
    " \n",
    "# Set the axis and slider position in the plot\n",
    "axis_position = plt.axes([0.2, 0.1, 0.65, 0.03],\n",
    "                         facecolor = slider_color)\n",
    "slider_position = Slider(axis_position, 'Pos', 0, len(df_video_raw_test))\n",
    " \n",
    "# update() function to change the graph when the slider is in use\n",
    "def update(val):\n",
    "    pos = slider_position.val    \n",
    "    Axis.axis([pos, pos+200, 0, 40])\n",
    "    Plot.canvas.draw_idle()\n",
    " \n",
    "    # update function called using on_changed() function\n",
    "slider_position.on_changed(update)"
   ]
  },
  {
   "cell_type": "markdown",
   "id": "fa75c904",
   "metadata": {},
   "source": [
    "Improve the algorithm, so that it only detects a new initiation after ... amount of time/after it stops moving...?"
   ]
  },
  {
   "cell_type": "code",
   "execution_count": null,
   "id": "0220708c",
   "metadata": {
    "scrolled": true
   },
   "outputs": [],
   "source": [
    "# get the frames in which the velocity raises above the cutOff\n",
    "initiations_right_paw = []\n",
    "for frame in range(len(df_diff)):\n",
    "    if df_diff['V_xy_rpaw_SMA'][frame] < cutOff2 and df_diff['V_xy_rpaw_SMA'][frame+1] > cutOff2:\n",
    "        initiations_right_paw.append(frame)\n",
    "len(initiations_right_paw)"
   ]
  },
  {
   "cell_type": "code",
   "execution_count": null,
   "id": "48148776",
   "metadata": {
    "scrolled": true
   },
   "outputs": [],
   "source": [
    "initiations_right_paw"
   ]
  },
  {
   "cell_type": "markdown",
   "id": "7816a90f",
   "metadata": {},
   "source": [
    "# 4.2.2 Obtain movement initiations with the right paw (heel)"
   ]
  },
  {
   "cell_type": "code",
   "execution_count": null,
   "id": "77cd19bd",
   "metadata": {},
   "outputs": [],
   "source": [
    "df_diff.columns"
   ]
  },
  {
   "cell_type": "code",
   "execution_count": null,
   "id": "a32e54df",
   "metadata": {},
   "outputs": [],
   "source": [
    "import numpy as np\n",
    "# create 2 new columns relative to the absolute velocity,v_xy of the heel and the digital tip, raw and smoothed\n",
    "V_xy_heel = np.sqrt(df_diff['Vel - right_hindlimb_heel (x)']**2+df_diff['Vel - right_hindlimb_heel (y)']**2)\n",
    "V_xy_heel_SMA = np.sqrt(df_diff['Vel - SMA10: right_hindlimb_heel (x)']**2+df_diff['Vel - SMA10: right_hindlimb_heel (y)']**2)"
   ]
  },
  {
   "cell_type": "code",
   "execution_count": null,
   "id": "f58077e9",
   "metadata": {
    "scrolled": true
   },
   "outputs": [],
   "source": [
    "df_diff['V_xy_heel'] = V_xy_heel\n",
    "df_diff['V_xy_heel_SMA'] = V_xy_heel_SMA\n",
    "# show the updated dataframe\n",
    "df_diff"
   ]
  },
  {
   "cell_type": "code",
   "execution_count": null,
   "id": "54e20410",
   "metadata": {},
   "outputs": [],
   "source": [
    "# same code for the heel\n",
    "\n",
    "# this time: consider a movement initiation every time the velocity raises above \n",
    "# ... the beginning of a local minimum in the log distribution of velocities\n",
    "# ... the local minimum is to be found in the valley forming the two peaks of\n",
    "# ... the log_scale distribution\n",
    "\n",
    "import seaborn as sns\n",
    "import numpy as np\n",
    "import matplotlib.pyplot as plt\n",
    "\n",
    "ax1_heel = sns.kdeplot(df_diff['V_xy_heel'], log_scale = True)\n",
    "ax2_heel = sns.kdeplot(df_diff['V_xy_heel_SMA'], log_scale = True)\n",
    "\n",
    "kde_curve1_heel = ax1_heel.lines[0]\n",
    "kde_curve2_heel = ax2_heel.lines[1]\n",
    "\n",
    "x1_heel = kde_curve1_heel.get_xdata()\n",
    "y1_heel = kde_curve1_heel.get_ydata()\n",
    "\n",
    "x2_heel = kde_curve2_heel.get_xdata()\n",
    "y2_heel = kde_curve2_heel.get_ydata()\n",
    "\n",
    "plt.plot(x1_heel, y1_heel, color='green')\n",
    "plt.plot(x2_heel, y2_heel, color='blue')\n",
    "\n",
    "peaks1_heel = np.where((y1_heel[1:-1] > y1_heel[0:-2]) * (y1_heel[1:-1] > y1_heel[2:]))[0] + 1\n",
    "dips1_heel = np.where((y1_heel[1:-1] < y1_heel[0:-2]) * (y1_heel[1:-1] < y1_heel[2:]))[0] + 1\n",
    "\n",
    "peaks2_heel = np.where((y2_heel[1:-1] > y2_heel[0:-2]) * (y2_heel[1:-1] > y2_heel[2:]))[0] + 1\n",
    "dips2_heel = np.where((y2_heel[1:-1] < y2_heel[0:-2]) * (y2_heel[1:-1] < y2_heel[2:]))[0] + 1\n",
    "'''\n",
    "plt.plot(x1_heel, y1_heel)\n",
    "plt.plot(x1_heel[peaks1_heel], y1_heel[peaks1_heel], 'o')\n",
    "plt.plot(x1_heel[dips1_heel], y1_heel[dips1_heel], 'o')\n",
    "plt.show()\n",
    "\n",
    "plt.plot(x2_heel, y2_heel)\n",
    "plt.plot(x2_heel[peaks2_heel], y2_heel[peaks2_heel], 'o')\n",
    "plt.plot(x2_heel[dips2_heel], y2_heel[dips2_heel], 'o')\n",
    "plt.show()\n",
    "'''\n",
    "print('Each kde plot has 200 points!')\n",
    "print('The local maxima are at the following positions (of the raw data plot line!): {}'.format(peaks1_heel))\n",
    "print('The local minima are at the following positions (of the raw data plot line!): {}'.format(dips1_heel))\n",
    "print('The local maxima are at the following positions (of the SMA plot line!): {}'.format(peaks2_heel))\n",
    "print('The local minima are at the following positions (of the SMA plot line!): {}'.format(dips2_heel))\n",
    "\n",
    "for i in range(len(peaks1_heel)):\n",
    "    if y1_heel[[peaks1_heel[-(i+1)]]] - y1_heel[dips1_heel[-i]] > 0.2:\n",
    "        cutOff1_heel = x1_heel[dips1_heel[-1]]\n",
    "        break\n",
    "cutOff1_heel #this value establishes the velocity treshold from which an initiation involving the right paw will be counted\n",
    "for i in range(len(peaks2_heel)):\n",
    "    if y2_heel[[peaks2_heel[-(i+1)]]] - y2_heel[dips2_heel[-i]] > 0.2:\n",
    "        cutOff2_heel = x2_heel[dips2_heel[-1]]\n",
    "        break\n",
    "print('Our cutOff1 for this mice will be: {}'.format(cutOff1_heel))\n",
    "print('Our cutOff2 for this mice will be: {}'.format(cutOff2_heel))"
   ]
  },
  {
   "cell_type": "code",
   "execution_count": null,
   "id": "5383ce3e",
   "metadata": {},
   "outputs": [],
   "source": [
    "# Import libraries using import keyword\n",
    "import numpy as np\n",
    "import matplotlib.pyplot as plt\n",
    "from matplotlib.widgets import Slider, Button, RadioButtons\n",
    "import scipy.ndimage as ndi\n",
    "%matplotlib tk\n",
    "# Setting Plot and Axis variables as subplots()\n",
    "# function returns tuple(fig, ax)\n",
    "Plot, Axis = plt.subplots()\n",
    " \n",
    "# Adjust the bottom size according to the requirement of the user\n",
    "plt.subplots_adjust(bottom=0.25)\n",
    "\n",
    "df_diff['V_xy_heel'].astype(float, errors='raise').plot(linewidth=3, figsize=(12,6), color='green')\n",
    "df_diff['V_xy_heel_SMA'].astype(float, errors='raise').plot(linewidth=3, figsize=(12,6), color='blue')\n",
    "\n",
    "#cutOff=? # this value is calculated in the previous cell/s\n",
    "plt.axhline(y=cutOff1_heel, color = 'green', linestyle = '-')\n",
    "plt.axhline(y=cutOff2_heel, color = 'blue', linestyle = '-')\n",
    "\n",
    "# Choose the Slider color\n",
    "slider_color = 'White'\n",
    " \n",
    "# Set the axis and slider position in the plot\n",
    "axis_position = plt.axes([0.2, 0.1, 0.65, 0.03],\n",
    "                         facecolor = slider_color)\n",
    "slider_position = Slider(axis_position, 'Pos', 0, len(df_diff))\n",
    " \n",
    "# update() function to change the graph when the slider is in use\n",
    "def update(val):\n",
    "    pos = slider_position.val    \n",
    "    Axis.axis([pos, pos+200, 0, 40])\n",
    "    Plot.canvas.draw_idle()\n",
    " \n",
    "    # update function called using on_changed() function\n",
    "slider_position.on_changed(update)"
   ]
  },
  {
   "cell_type": "markdown",
   "id": "9dc5dd58",
   "metadata": {},
   "source": [
    "OBS: \n",
    "1. In the previous cell, cutOff1 is a value much larger than what would be acceptable as a treshold for detection of movement initiation\n",
    "2. cutOff2 (for the filtered signal is reasonable, since the distribution of velocities displays 2 marked peaks)"
   ]
  },
  {
   "cell_type": "code",
   "execution_count": null,
   "id": "5ca94043",
   "metadata": {},
   "outputs": [],
   "source": [
    "# get the frames in which the velocity raises above the cutOff\n",
    "initiations_right_paw_heel = []\n",
    "for frame in range(len(df_diff)):\n",
    "    if df_diff['V_xy_heel_SMA'][frame] < cutOff2_heel and df_diff['V_xy_heel_SMA'][frame+1] > cutOff2_heel:\n",
    "        initiations_right_paw_heel.append(frame)\n",
    "len(initiations_right_paw_heel)"
   ]
  },
  {
   "cell_type": "code",
   "execution_count": null,
   "id": "8e30144a",
   "metadata": {
    "scrolled": true
   },
   "outputs": [],
   "source": [
    "initiations_right_paw_heel #SMA"
   ]
  },
  {
   "cell_type": "markdown",
   "id": "5a930faf",
   "metadata": {},
   "source": [
    "# 5. Add a live indication in the video of the moments at which the movement initiation (involving the right paw) occurs "
   ]
  },
  {
   "cell_type": "code",
   "execution_count": null,
   "id": "d09b6f20",
   "metadata": {},
   "outputs": [],
   "source": [
    "import cv2\n",
    "from datetime import datetime\n",
    "countInitiations = 0\n",
    "last_detected = datetime.now()\n",
    "cap = cv2.VideoCapture(\"C:/Users/user/Desktop/DeepLabCut-master/examples/Dystonia_Test-Diogo_2022_04_21/videos/42136_RF_W01VideoProcessed2021-12-07T12_11_59.avi\")\n",
    "while(True):\n",
    "    ret, frame = cap.read()\n",
    "    if cap.get(1) in initiations_right_paw_heel:\n",
    "        countInitiations += 1\n",
    "        last_detected = datetime.now()\n",
    "    else:\n",
    "        if (datetime.now() - last_detected).total_seconds() < 0.2:        \n",
    "            cv2.putText(frame, 'MOVEMENT INITIATION INVOLVING THE RIGHT PAW (HEEL)!', (50,100), 2, 1, (255,255,255), 2, cv2.LINE_4)\n",
    "    cv2.putText(frame, 'Count:'+str(countInitiations), (50,50), 2, 1, (255,255,255), 2, cv2.LINE_4)\n",
    "    cv2.imshow('video', frame)\n",
    "    if cv2.waitKey(1) & 0xFF == ord('q'):\n",
    "        break\n",
    "cap.release()\n",
    "cv2.destroyAllWindows()"
   ]
  },
  {
   "cell_type": "markdown",
   "id": "1db99a6d",
   "metadata": {},
   "source": [
    "# 6. Compare the results with the movement initiations detected from the accelerometer "
   ]
  },
  {
   "cell_type": "markdown",
   "id": "986193bf",
   "metadata": {},
   "source": [
    "The idea would be to validate (to some extent) the current method, namely by checking if:\n",
    "1. There are less detections by this method, when compared to the accelerometer\n",
    "2. This method only detects initiations (although less) that the accelerometer also detects (in theory)\n",
    "3. The initiations coincide (how to properly align in time?)\n",
    "\n",
    "Furthermore, once a proper method (for identifying movement initiations involving the right paw) is established, it is necessary to align the movement initiations to the calcium signals."
   ]
  },
  {
   "cell_type": "markdown",
   "id": "4b012fdb",
   "metadata": {},
   "source": [
    "# 7. Pixel Change"
   ]
  },
  {
   "cell_type": "markdown",
   "id": "3762acc3",
   "metadata": {},
   "source": [
    "When the mice moves, the difference of the cumsums of a frame and the following frame should be different than zero. This should detect false positives, since the filtered signal (currently SMA with 10 frames window) needs further optimization.\n",
    "\n",
    "One approach could be:\n",
    "1. Establish overall movement initiatiation with pixel change (can also compare this one with the accelerometer);\n",
    "2. Establish movement initiation using right_paw through the velocity of the heel (knowing that, whitout any pre-processing of the raw signal, there will be a lot of false positives, since this detects every time the velocity raises above a treshold, every walking cycle will count as an initiation but only the first should count);\n",
    "3. Point 7. can be used to define the amount of time during which a movement initiation involving the right paw should not be detected, and with that information improve point 2. detections\n",
    "\n",
    "sum(abs(px(n+1)-px(n))), for all the frames"
   ]
  },
  {
   "cell_type": "code",
   "execution_count": null,
   "id": "d323a422",
   "metadata": {},
   "outputs": [],
   "source": [
    "min_ = 1\n",
    "sec_ = 8\n",
    "total_sec = 60*min_ + sec_\n",
    "str(total_sec*30) + ' frames'"
   ]
  },
  {
   "cell_type": "code",
   "execution_count": null,
   "id": "12cb2490",
   "metadata": {
    "scrolled": true
   },
   "outputs": [],
   "source": [
    "# try the method on the first 900 frames - 30 seconds\n",
    "import cv2\n",
    "import numpy as np\n",
    "vidcap = cv2.VideoCapture(\"C:/Users/user/Desktop/DeepLabCut-master/examples/Dystonia_Test-Diogo_2022_04_21/videos/42136_RF_W01VideoProcessed2021-12-07T12_11_59.avi\")\n",
    "success,image = vidcap.read()\n",
    "count = 0\n",
    "some_fr = []\n",
    "while count<2100:   \n",
    "    success,image = vidcap.read()\n",
    "    count += 1\n",
    "    some_fr.append(image)\n",
    "print(count)"
   ]
  },
  {
   "cell_type": "code",
   "execution_count": null,
   "id": "e60d6e8c",
   "metadata": {
    "scrolled": false
   },
   "outputs": [],
   "source": [
    "len(some_fr)"
   ]
  },
  {
   "cell_type": "code",
   "execution_count": null,
   "id": "712f39ef",
   "metadata": {},
   "outputs": [],
   "source": [
    "# in this image, values are in the range of 0-255 (8bits) and the elements are of type uint8\n",
    "type(some_fr[0][715,895,2]) #shape (716, 896, 3)"
   ]
  },
  {
   "cell_type": "code",
   "execution_count": null,
   "id": "71d5fa01",
   "metadata": {},
   "outputs": [],
   "source": [
    "# convert the elements of each frame to int (to avoid problems with negative numbers resulting from the subtraction of 'matrices')\n",
    "for i in range(len(some_fr)):\n",
    "    some_fr[i] = some_fr[i].astype(int)"
   ]
  },
  {
   "cell_type": "code",
   "execution_count": null,
   "id": "6fa6db04",
   "metadata": {
    "scrolled": true
   },
   "outputs": [],
   "source": [
    "type(some_fr[0][715,895,2])"
   ]
  },
  {
   "cell_type": "code",
   "execution_count": null,
   "id": "ef94c927",
   "metadata": {
    "scrolled": true
   },
   "outputs": [],
   "source": [
    "some_fr[0][:,:,0] # this represents one frame (with only one of the 3 (equal) values [255, 255, 255] it is originally constituted by)"
   ]
  },
  {
   "cell_type": "code",
   "execution_count": null,
   "id": "fd29ed5c",
   "metadata": {
    "scrolled": true
   },
   "outputs": [],
   "source": [
    "some_fr[0][:,:,0].shape # naturally, the shape is changed to (716,896) as desired"
   ]
  },
  {
   "cell_type": "code",
   "execution_count": null,
   "id": "8ae9621f",
   "metadata": {
    "scrolled": true
   },
   "outputs": [],
   "source": [
    "# test - subtract the previous frame on the current frame\n",
    "np.subtract(some_fr[1][:,:,0], some_fr[0][:,:,0])"
   ]
  },
  {
   "cell_type": "code",
   "execution_count": null,
   "id": "f915380e",
   "metadata": {
    "scrolled": true
   },
   "outputs": [],
   "source": [
    "# turn all the values positive\n",
    "np.absolute(np.subtract(some_fr[1][:,:,0], some_fr[0][:,:,0]))"
   ]
  },
  {
   "cell_type": "code",
   "execution_count": null,
   "id": "dd697162",
   "metadata": {},
   "outputs": [],
   "source": [
    "import matplotlib.pyplot as plt\n",
    "# plots the subtraction between the first two frames (showing the pixel change) - walking (by visual inspection of the video)\n",
    "plt.imshow(np.absolute(np.subtract(some_fr[1][:,:,0], some_fr[0][:,:,0])), vmin = 0, vmax = 255, cmap='binary')\n",
    "plt.grid(False)"
   ]
  },
  {
   "cell_type": "code",
   "execution_count": null,
   "id": "38b6f958",
   "metadata": {},
   "outputs": [],
   "source": [
    "# plots the subtraction of two consecutive frames - standing still\n",
    "plt.imshow(np.absolute(np.subtract(some_fr[359][:,:,0], some_fr[358][:,:,0])), cmap='binary', vmin = 0, vmax = 255)\n",
    "plt.grid(False)"
   ]
  },
  {
   "cell_type": "code",
   "execution_count": null,
   "id": "01f1b3f8",
   "metadata": {},
   "outputs": [],
   "source": [
    "import random\n",
    "\n",
    "# plots the mean of values of each row and column of a specific frame\n",
    "import numpy as np\n",
    "import matplotlib.pyplot as plt\n",
    "from matplotlib import gridspec\n",
    "\n",
    "t = np.linspace(0, 896, 896)\n",
    "f = np.linspace(0, 716, 716)\n",
    "init_fr = 12\n",
    "a = np.absolute(np.subtract(some_fr[init_fr][:,:,0], some_fr[init_fr-1][:,:,0]))\n",
    "flim = (f.min(), f.max())\n",
    "tlim = (t.min(), t.max())\n",
    "\n",
    "gs = gridspec.GridSpec(2, 2, width_ratios=[1,3], height_ratios=[3,1])\n",
    "ax = plt.subplot(gs[0,1])\n",
    "axl = plt.subplot(gs[0,0], sharey=ax)\n",
    "axb = plt.subplot(gs[1,1], sharex=ax)\n",
    "\n",
    "ax.imshow(a, origin='lower', extent=tlim+flim, aspect='auto', cmap='binary', vmin = 0, vmax=255)\n",
    "plt.xlim(tlim)\n",
    "\n",
    "axl.plot(a.mean(1), f)\n",
    "axb.plot(t, a.mean(0))"
   ]
  },
  {
   "cell_type": "code",
   "execution_count": null,
   "id": "57577b43",
   "metadata": {},
   "outputs": [],
   "source": [
    "plt.imshow(a, cmap='binary', vmin=0, vmax=255)"
   ]
  },
  {
   "cell_type": "code",
   "execution_count": null,
   "id": "5dae948c",
   "metadata": {},
   "outputs": [],
   "source": [
    "flat_frame = a.flatten()"
   ]
  },
  {
   "cell_type": "code",
   "execution_count": null,
   "id": "c09b4c09",
   "metadata": {},
   "outputs": [],
   "source": [
    "flat_frame\n",
    "flat_frame+1"
   ]
  },
  {
   "cell_type": "code",
   "execution_count": null,
   "id": "ebd77cb4",
   "metadata": {
    "scrolled": true
   },
   "outputs": [],
   "source": [
    "import seaborn as sns\n",
    "sns.kdeplot(flat_frame+1, log_scale=True).lines[0].get_ydata()"
   ]
  },
  {
   "cell_type": "code",
   "execution_count": null,
   "id": "a6747fe4",
   "metadata": {},
   "outputs": [],
   "source": [
    "flat=(a.flatten())\n",
    "plt.plot(flat)"
   ]
  },
  {
   "cell_type": "code",
   "execution_count": null,
   "id": "c59c1025",
   "metadata": {
    "scrolled": true
   },
   "outputs": [],
   "source": [
    "print(len(some_fr), np.size(a), len(some_fr)*np.size(a))"
   ]
  },
  {
   "cell_type": "code",
   "execution_count": null,
   "id": "30f4047a",
   "metadata": {},
   "outputs": [],
   "source": [
    "colapsed_flatten = []\n",
    "for currentFrame in range(0, 30):\n",
    "    previousFrame = currentFrame - 1\n",
    "    #changes the value of 'a' every loop\n",
    "    a = np.absolute(np.subtract(some_fr[currentFrame][:,:,0], some_fr[previousFrame][:,:,0])) \n",
    "    colapsed_flatten.append(a.flatten())\n",
    "    \n",
    "#plt.plot(log(sum_time_series), bins=100)\n",
    "plt.plot(colapsed_flatten)"
   ]
  },
  {
   "cell_type": "code",
   "execution_count": null,
   "id": "146b5fcf",
   "metadata": {
    "scrolled": true
   },
   "outputs": [],
   "source": [
    "colapsed_flatten"
   ]
  },
  {
   "cell_type": "code",
   "execution_count": null,
   "id": "59d4bf27",
   "metadata": {
    "scrolled": true
   },
   "outputs": [],
   "source": [
    "plt.hist(np.log(flat+1), bins = 50)"
   ]
  },
  {
   "cell_type": "code",
   "execution_count": null,
   "id": "72423722",
   "metadata": {},
   "outputs": [],
   "source": [
    "import seaborn as sns\n",
    "fig = sns.kdeplot(a.mean(0), log_scale=True, label='Columns')\n",
    "sns.kdeplot(a.mean(1), log_scale=True, label='Rows')\n",
    "fig.legend(labels=['Columns','Rows'])"
   ]
  },
  {
   "cell_type": "markdown",
   "id": "748b3be0",
   "metadata": {},
   "source": [
    "---"
   ]
  },
  {
   "cell_type": "markdown",
   "id": "7ecd034b",
   "metadata": {},
   "source": [
    "### I will attempt using a simple moving average filter to a.mean(0) and a.mean(1) in order to correct the ambiguity associated with the 0/1, 1/0 modality criteria"
   ]
  },
  {
   "cell_type": "code",
   "execution_count": null,
   "id": "1f8c19a6",
   "metadata": {
    "scrolled": true
   },
   "outputs": [],
   "source": [
    "plt.plot(a.mean(1))"
   ]
  },
  {
   "cell_type": "code",
   "execution_count": null,
   "id": "084d49c2",
   "metadata": {},
   "outputs": [],
   "source": [
    "len(a.mean(1))"
   ]
  },
  {
   "cell_type": "code",
   "execution_count": null,
   "id": "cf8fcb2c",
   "metadata": {},
   "outputs": [],
   "source": [
    "#simple moving average of the list of mean values of pixel change per row\n",
    "import numpy as np\n",
    "def moving_average(x, w):\n",
    "    return np.convolve(x, np.ones(w), 'valid') / w\n",
    "\n",
    "print(moving_average(a.mean(1),15))"
   ]
  },
  {
   "cell_type": "code",
   "execution_count": null,
   "id": "bb7fe559",
   "metadata": {},
   "outputs": [],
   "source": [
    "plt.plot(a.mean(1))\n",
    "plt.plot(moving_average(a.mean(1), 50))"
   ]
  },
  {
   "cell_type": "code",
   "execution_count": null,
   "id": "bd392a8d",
   "metadata": {},
   "outputs": [],
   "source": [
    "plt.plot(a.mean(0))\n",
    "plt.plot(moving_average(a.mean(0), 50))"
   ]
  },
  {
   "cell_type": "code",
   "execution_count": null,
   "id": "c00c12b5",
   "metadata": {},
   "outputs": [],
   "source": [
    "import seaborn as sns\n",
    "sns.kdeplot(a.mean(1), log_scale = True)\n",
    "sns.kdeplot(moving_average(a.mean(1), 50), log_scale = True)"
   ]
  },
  {
   "cell_type": "markdown",
   "id": "3232b31d",
   "metadata": {},
   "source": [
    "---"
   ]
  },
  {
   "cell_type": "markdown",
   "id": "172e7de5",
   "metadata": {},
   "source": [
    "Bunch of random tests"
   ]
  },
  {
   "cell_type": "code",
   "execution_count": null,
   "id": "6ac883f4",
   "metadata": {},
   "outputs": [],
   "source": [
    "len(a.mean(0)), len(a.mean(1))"
   ]
  },
  {
   "cell_type": "code",
   "execution_count": null,
   "id": "fad2bea5",
   "metadata": {},
   "outputs": [],
   "source": [
    "# two arrays: one with the mean values of each row and another with the mean values of each column, for the frame plotted above\n",
    "a.mean(0), a.mean(1)"
   ]
  },
  {
   "cell_type": "code",
   "execution_count": null,
   "id": "5e61f3bf",
   "metadata": {},
   "outputs": [],
   "source": [
    "np.sum(a)"
   ]
  },
  {
   "cell_type": "code",
   "execution_count": null,
   "id": "7a9ebf81",
   "metadata": {},
   "outputs": [],
   "source": [
    "np.sum(np.concatenate(a))"
   ]
  },
  {
   "cell_type": "code",
   "execution_count": null,
   "id": "a40ead58",
   "metadata": {
    "scrolled": true
   },
   "outputs": [],
   "source": [
    "len(a.mean(0)), len(a.mean(1))"
   ]
  },
  {
   "cell_type": "code",
   "execution_count": null,
   "id": "73a43d24",
   "metadata": {},
   "outputs": [],
   "source": [
    "max(a.mean(0)), max(a.mean(1))"
   ]
  },
  {
   "cell_type": "code",
   "execution_count": null,
   "id": "092300ed",
   "metadata": {},
   "outputs": [],
   "source": [
    "sum(a.mean(0))/len(a.mean(0))"
   ]
  },
  {
   "cell_type": "code",
   "execution_count": null,
   "id": "a1357944",
   "metadata": {},
   "outputs": [],
   "source": [
    "sum(a.mean(1))/len(a.mean(1))"
   ]
  },
  {
   "cell_type": "code",
   "execution_count": null,
   "id": "b374dfd9",
   "metadata": {
    "scrolled": false
   },
   "outputs": [],
   "source": [
    "print(np.sum(a.mean(0)), np.sum(a.mean(1)))"
   ]
  },
  {
   "cell_type": "markdown",
   "id": "c838962c",
   "metadata": {},
   "source": [
    "#### Define a measure of pixel change for each frame and plot (in theory it should be a line that goes up and stays there while there is movement)"
   ]
  },
  {
   "cell_type": "code",
   "execution_count": null,
   "id": "180b6088",
   "metadata": {
    "scrolled": true
   },
   "outputs": [],
   "source": [
    "# obtain a single value, representing the 'pixel change' of one frame to the next\n",
    "ABC = np.absolute(np.subtract(twenty_fr[4][:,:,0].astype(int), twenty_fr[3][:,:,0]).astype(int))\n",
    "average_change = round(np.sum(ABC)/ABC.size, 2)\n",
    "average_change"
   ]
  },
  {
   "cell_type": "code",
   "execution_count": null,
   "id": "952ca8c1",
   "metadata": {},
   "outputs": [],
   "source": [
    "sub = [] #each index of sub is a frame\n",
    "for i in range(len(some_fr)):\n",
    "    #sub.append(np.sum(np.absolute(np.subtract(some_fr[i][:,:,0].astype(int), some_fr[i-1][:,:,0]).astype(int)), axis=0))\n",
    "    sub.append(np.absolute(np.subtract(some_fr[i][:,:,0], some_fr[i-1][:,:,0])))"
   ]
  },
  {
   "cell_type": "code",
   "execution_count": null,
   "id": "52fc6737",
   "metadata": {
    "scrolled": true
   },
   "outputs": [],
   "source": [
    "sub[36] # peak in the signal"
   ]
  },
  {
   "cell_type": "code",
   "execution_count": null,
   "id": "90684fdc",
   "metadata": {
    "scrolled": false
   },
   "outputs": [],
   "source": [
    "np.asarray(sub)"
   ]
  },
  {
   "cell_type": "code",
   "execution_count": null,
   "id": "8cc319a7",
   "metadata": {},
   "outputs": [],
   "source": [
    "len(sub)"
   ]
  },
  {
   "cell_type": "code",
   "execution_count": null,
   "id": "1173d7c2",
   "metadata": {},
   "outputs": [],
   "source": [
    "print (np.sum(np.concatenate(a)))"
   ]
  },
  {
   "cell_type": "code",
   "execution_count": null,
   "id": "565e4d16",
   "metadata": {},
   "outputs": [],
   "source": [
    "plt.plot(np.asarray(sub))\n",
    "plt.grid(True)"
   ]
  },
  {
   "cell_type": "markdown",
   "id": "463fb8be",
   "metadata": {},
   "source": [
    "#### Consider a movement only when both distributions (pixel change for both axis) are multimodal"
   ]
  },
  {
   "cell_type": "markdown",
   "id": "4468d37a",
   "metadata": {},
   "source": [
    "Maybe:\n",
    "\n",
    "1. Create an array containing the info 0, for NO there is no local minimum in the distribution and 1, for YES there is a local minimum in the distribution (for each axis)\n",
    "- Create an array containing the info 1, for YES, there are 2 or more significant local maxima in the distribution and 0, for there is only ONE maxmimum in the distribution (for each axis)\n",
    "\n",
    "2. Create a new array that is an AND of the two previous arrays (only 1 - meaning movement - when neither distribution has a local minimum)\n",
    "- Creat a new array that is an AND of the two previous arrays (only 1 - meaning movement - when both distributions are multimodal - have at least two significant local maxmimum) \n",
    "\n",
    "Define a treshold below which a detected local maximum is considered not significant (and is therefore not counted)\n",
    "\n",
    "This can be adapted for other approaches, namely by implementing other methods for identifying distribution unimodality..."
   ]
  },
  {
   "cell_type": "code",
   "execution_count": null,
   "id": "673ab589",
   "metadata": {},
   "outputs": [],
   "source": [
    "# test for a specif frame\n",
    "#init_fr = 2040 # not moving\n",
    "init_fr = 12 # walking\n",
    "a = np.absolute(np.subtract(some_fr[init_fr][:,:,0], some_fr[init_fr-1][:,:,0]))\n",
    "fig1 = sns.kdeplot(a.mean(0), log_scale=True, label='Columns')\n",
    "fig2 = sns.kdeplot(a.mean(1), log_scale=True, label='Rows');\n",
    "kde_curve_c = fig1.lines[0]\n",
    "kde_curve_r = fig2.lines[1]\n",
    "x_c = kde_curve_c.get_xdata()\n",
    "y_c = kde_curve_c.get_ydata()\n",
    "x_r = kde_curve_r.get_xdata()\n",
    "y_r = kde_curve_r.get_ydata()\n",
    "peaks_c = np.where((y_c[1:-1] > y_c[0:-2]) * (y_c[1:-1] > y_c[2:]))[0] + 1\n",
    "dips_c = np.where((y_c[1:-1] < y_c[0:-2]) * (y_c[1:-1] < y_c[2:]))[0] + 1\n",
    "peaks_r = np.where((y_r[1:-1] > y_r[0:-2]) * (y_r[1:-1] > y_r[2:]))[0] + 1\n",
    "dips_r = np.where((y_r[1:-1] < y_r[0:-2]) * (y_r[1:-1] < y_r[2:]))[0] + 1\n",
    "plt.plot(x_c[peaks_c], y_c[peaks_c], 'o')\n",
    "plt.plot(x_c[dips_c], y_c[dips_c], 'o')\n",
    "plt.plot(x_r[peaks_r], y_r[peaks_r], 'o')\n",
    "plt.plot(x_r[dips_r], y_r[dips_r], 'o')\n",
    "\n",
    "print(peaks_c)\n",
    "print(peaks_r)"
   ]
  },
  {
   "cell_type": "code",
   "execution_count": null,
   "id": "369ad51f",
   "metadata": {},
   "outputs": [],
   "source": [
    "for peak in range(len(peaks_c)):\n",
    "    print(y_c[peaks_c[peak]]>0.05)\n",
    "for peak in range(len(peaks_r)):\n",
    "    print(y_r[peaks_r[peak]]>0.05)\n",
    "    \n",
    "# it should consider this frame as movement! but the graph has a zero - INCORRECT"
   ]
  },
  {
   "cell_type": "code",
   "execution_count": null,
   "id": "0ccba492",
   "metadata": {},
   "outputs": [],
   "source": [
    "len(a.mean(0))"
   ]
  },
  {
   "cell_type": "code",
   "execution_count": null,
   "id": "5fe32ea9",
   "metadata": {},
   "outputs": [],
   "source": [
    "a.mean(0)"
   ]
  },
  {
   "cell_type": "code",
   "execution_count": null,
   "id": "d5ad4407",
   "metadata": {},
   "outputs": [],
   "source": [
    "plt.max(a)"
   ]
  },
  {
   "cell_type": "code",
   "execution_count": null,
   "id": "69cb71a9",
   "metadata": {},
   "outputs": [],
   "source": [
    "sum_time_series = []\n",
    "for currentFrame in range(0, len(some_fr)):\n",
    "#for currentFrame in range(1, 6): # goes through the loop 5 times\n",
    "    previousFrame = currentFrame - 1\n",
    "    #changes the value of a every loop\n",
    "    a = np.absolute(np.subtract(some_fr[currentFrame][:,:,0], some_fr[previousFrame][:,:,0])) \n",
    "    \n",
    "    # a.mean(0) # 896 columns\n",
    "    sum_time_series.append(np.sum(a))  \n",
    "    \n",
    "plt.plot(log(sum_time_series), bins=100)"
   ]
  },
  {
   "cell_type": "code",
   "execution_count": null,
   "id": "96c6d01f",
   "metadata": {},
   "outputs": [],
   "source": [
    "import numpy as np\n",
    "plt.plot(np.log(sum_time_series))"
   ]
  },
  {
   "cell_type": "code",
   "execution_count": null,
   "id": "4d382bc8",
   "metadata": {
    "scrolled": true
   },
   "outputs": [],
   "source": [
    "import seaborn as sns\n",
    "import numpy as np\n",
    "import matplotlib.pyplot as plt\n",
    "\n",
    "local_max_c = 0\n",
    "modality_c = []\n",
    "local_max_r = 0\n",
    "modality_r = []\n",
    "a_vector = []\n",
    "\n",
    "for currentFrame in range(0, 30):\n",
    "#for currentFrame in range(1, 6): # goes through the loop 5 times\n",
    "    previousFrame = currentFrame - 1\n",
    "    #changes the value of a every loop\n",
    "    a = np.absolute(np.subtract(some_fr[currentFrame][:,:,0], some_fr[previousFrame][:,:,0])) \n",
    "    # BUT... fig1 and fig2 are not changing!!! WRONG\n",
    "    # this leads to the value of peaks_c, etc not changing with iteration\n",
    "    fig1 = sns.kdeplot(a.mean(0), log_scale=True, label='Columns')\n",
    "    fig2 = sns.kdeplot(a.mean(1), log_scale=True, label='Rows')\n",
    "\n",
    "    kde_curve_c = fig1.lines[0] \n",
    "    kde_curve_r = fig2.lines[1]\n",
    "\n",
    "    x_c = kde_curve_c.get_xdata()\n",
    "    y_c = kde_curve_c.get_ydata()\n",
    "\n",
    "    x_r = kde_curve_r.get_xdata()\n",
    "    y_r = kde_curve_r.get_ydata()\n",
    "    \n",
    "    # COLUMNS\n",
    "    peaks_c = np.where((y_c[1:-1] > y_c[0:-2]) * (y_c[1:-1] > y_c[2:]))[0] + 1\n",
    "    dips_c = np.where((y_c[1:-1] < y_c[0:-2]) * (y_c[1:-1] < y_c[2:]))[0] + 1\n",
    "    # for loop\n",
    "    for peak in range(len(peaks_c)):\n",
    "        if y_c[peaks_c[peak]] > 0.05:\n",
    "            local_max_c += 1\n",
    "    if local_max_c > 1:\n",
    "        modality_c.append(1) # multimodal distribution\n",
    "    else:\n",
    "        modality_c.append(0) # unimodal distribution\n",
    "    local_max_c = 0\n",
    "    \n",
    "    # ROWS\n",
    "    peaks_r = np.where((y_r[1:-1] > y_r[0:-2]) * (y_r[1:-1] > y_r[2:]))[0] + 1\n",
    "    dips_r = np.where((y_r[1:-1] < y_r[0:-2]) * (y_r[1:-1] < y_r[2:]))[0] + 1\n",
    "    # for loop\n",
    "    for peak in range(len(peaks_r)):\n",
    "        if y_r[peaks_r[peak]] > 0.05:\n",
    "            local_max_r += 1\n",
    "    if local_max_r > 1:\n",
    "        modality_r.append(1) # multimodal distribution\n",
    "    else:\n",
    "        modality_r.append(0) # unimodal distribution\n",
    "    local_max_r = 0\n",
    "    \n",
    "    #print(x_c[0], y_c[0], x_r[0], y_r[0])\n",
    "    print(peaks_c)\n",
    "    plt.cla()"
   ]
  },
  {
   "cell_type": "code",
   "execution_count": null,
   "id": "83386e6b",
   "metadata": {},
   "outputs": [],
   "source": [
    "movement_occuring = []\n",
    "for frame in range(len(modality_c)):\n",
    "    if (modality_c[frame] == 1) and (modality_r[frame] == 1):\n",
    "        movement_occuring.append(1)\n",
    "    else: \n",
    "        movement_occuring.append(0)"
   ]
  },
  {
   "cell_type": "code",
   "execution_count": null,
   "id": "624e0c35",
   "metadata": {},
   "outputs": [],
   "source": [
    "movement_occuring = []\n",
    "for frame in range(len(modality_c)):\n",
    "    if (modality_c[frame] == 1) and (modality_r[frame] == 1):\n",
    "        movement_occuring.append(1)\n",
    "    elif (modality_c[frame] == 1) and (modality_r[frame] == 0):\n",
    "        movement_occuring.append(0.75)\n",
    "    elif (modality_c[frame == 0]) and (modality_r[frame] == 1):\n",
    "        movement_occuring.append(0.25)\n",
    "    else: \n",
    "        movement_occuring.append(0)"
   ]
  },
  {
   "cell_type": "code",
   "execution_count": null,
   "id": "32effc6d",
   "metadata": {},
   "outputs": [],
   "source": [
    "movement_occuring = []\n",
    "for frame in range(len(modality_c)):\n",
    "    if (modality_c[frame] == 1) and (modality_r[frame] == 1):\n",
    "        movement_occuring.append(1)\n",
    "    elif (modality_c[frame] == 0) and (modality_r[frame] == 0): \n",
    "        movement_occuring.append(0)"
   ]
  },
  {
   "cell_type": "code",
   "execution_count": null,
   "id": "f43b703e",
   "metadata": {
    "scrolled": true
   },
   "outputs": [],
   "source": [
    "plt.plot(movement_occuring, marker = 'o')"
   ]
  },
  {
   "cell_type": "code",
   "execution_count": null,
   "id": "5d81b8e3",
   "metadata": {
    "scrolled": true
   },
   "outputs": [],
   "source": [
    "np.array(movement_occuring)"
   ]
  },
  {
   "cell_type": "code",
   "execution_count": null,
   "id": "3f6ae673",
   "metadata": {},
   "outputs": [],
   "source": [
    "indices_1 = [i for i, x in enumerate(movement_occuring) if x == 1]\n",
    "print(indices_1)\n",
    "indices_2 = [i for i, x in enumerate(movement_occuring) if x == 0]\n",
    "print(indices_2)"
   ]
  },
  {
   "cell_type": "code",
   "execution_count": null,
   "id": "459ed7e5",
   "metadata": {},
   "outputs": [],
   "source": [
    "min_ = 0\n",
    "sec_ = 39\n",
    "seconds = min_*60+sec_\n",
    "seconds\n",
    "frame = seconds*30\n",
    "frame"
   ]
  },
  {
   "cell_type": "code",
   "execution_count": null,
   "id": "703a0157",
   "metadata": {},
   "outputs": [],
   "source": [
    "# get the time of a specific frame you want to see in the video\n",
    "rate = 30\n",
    "frame = 1450\n",
    "time_sec = frame/30\n",
    "\n",
    "import datetime\n",
    "str(datetime.timedelta(seconds=time_sec))"
   ]
  },
  {
   "cell_type": "markdown",
   "id": "243f7370",
   "metadata": {},
   "source": [
    "---"
   ]
  },
  {
   "cell_type": "markdown",
   "id": "c2b13d88",
   "metadata": {},
   "source": [
    "Same thing but using a SMA (50 rows/columns) window..."
   ]
  },
  {
   "cell_type": "code",
   "execution_count": null,
   "id": "be3d17f5",
   "metadata": {
    "scrolled": true
   },
   "outputs": [],
   "source": [
    "import seaborn as sns\n",
    "import numpy as np\n",
    "import matplotlib.pyplot as plt\n",
    "\n",
    "local_max_c = 0\n",
    "modality_c = []\n",
    "local_max_r = 0\n",
    "modality_r = []\n",
    "a_vector = []\n",
    "\n",
    "for currentFrame in range(len(some_fr)):\n",
    "#for currentFrame in range(1, 6): # goes through the loop 5 times\n",
    "    previousFrame = currentFrame - 1\n",
    "    #changes the value of a every loop\n",
    "    a = np.absolute(np.subtract(some_fr[currentFrame][:,:,0], some_fr[previousFrame][:,:,0])) \n",
    "    # BUT... fig1 and fig2 are not changing!!! WRONG\n",
    "    # this leads to the value of peaks_c, etc not changing with iteration\n",
    "    fig1 = sns.kdeplot(moving_average(a.mean(0),50), log_scale=True, label='Columns')\n",
    "    fig2 = sns.kdeplot(moving_average(a.mean(1),50), log_scale=True, label='Rows')\n",
    "\n",
    "    kde_curve_c = fig1.lines[0] \n",
    "    kde_curve_r = fig2.lines[1]\n",
    "\n",
    "    x_c = kde_curve_c.get_xdata()\n",
    "    y_c = kde_curve_c.get_ydata()\n",
    "\n",
    "    x_r = kde_curve_r.get_xdata()\n",
    "    y_r = kde_curve_r.get_ydata()\n",
    "    \n",
    "    # COLUMNS\n",
    "    peaks_c = np.where((y_c[1:-1] > y_c[0:-2]) * (y_c[1:-1] > y_c[2:]))[0] + 1\n",
    "    dips_c = np.where((y_c[1:-1] < y_c[0:-2]) * (y_c[1:-1] < y_c[2:]))[0] + 1\n",
    "    # for loop\n",
    "    for peak in range(len(peaks_c)):\n",
    "        if y_c[peaks_c[peak]] > 0.05:\n",
    "            local_max_c += 1\n",
    "    if local_max_c > 1:\n",
    "        modality_c.append(1) # multimodal distribution\n",
    "    else:\n",
    "        modality_c.append(0) # unimodal distribution\n",
    "    local_max_c = 0\n",
    "    \n",
    "    # ROWS\n",
    "    peaks_r = np.where((y_r[1:-1] > y_r[0:-2]) * (y_r[1:-1] > y_r[2:]))[0] + 1\n",
    "    dips_r = np.where((y_r[1:-1] < y_r[0:-2]) * (y_r[1:-1] < y_r[2:]))[0] + 1\n",
    "    # for loop\n",
    "    for peak in range(len(peaks_r)):\n",
    "        if y_r[peaks_r[peak]] > 0.05:\n",
    "            local_max_r += 1\n",
    "    if local_max_r > 1:\n",
    "        modality_r.append(1) # multimodal distribution\n",
    "    else:\n",
    "        modality_r.append(0) # unimodal distribution\n",
    "    local_max_r = 0\n",
    "    \n",
    "    #print(x_c[0], y_c[0], x_r[0], y_r[0])\n",
    "    print(peaks_c)\n",
    "    plt.cla()"
   ]
  },
  {
   "cell_type": "code",
   "execution_count": null,
   "id": "af50b7f8",
   "metadata": {},
   "outputs": [],
   "source": [
    "len(modality_c)"
   ]
  },
  {
   "cell_type": "code",
   "execution_count": null,
   "id": "b9c99d07",
   "metadata": {},
   "outputs": [],
   "source": [
    "movement_occuring = []\n",
    "for frame in range(len(modality_c)):\n",
    "    if (modality_c[frame] == 1) and (modality_r[frame] == 1):\n",
    "        movement_occuring.append(1)\n",
    "    else: \n",
    "        movement_occuring.append(0)"
   ]
  },
  {
   "cell_type": "code",
   "execution_count": null,
   "id": "cfdc1947",
   "metadata": {
    "scrolled": true
   },
   "outputs": [],
   "source": [
    "plt.plot(movement_occuring)"
   ]
  },
  {
   "cell_type": "markdown",
   "id": "28978d36",
   "metadata": {},
   "source": [
    "This approach also has problems since the window of the simple moing average needs to be carefully chosen (e.g.a window of 50 almost never detects when the mice is NOT moving)"
   ]
  },
  {
   "cell_type": "markdown",
   "id": "301d9cf6",
   "metadata": {},
   "source": [
    "---"
   ]
  },
  {
   "cell_type": "markdown",
   "id": "ed76846f",
   "metadata": {},
   "source": [
    "1. Try using a treshold on a.mean(0) and a.mean(1) in order to push to zero everything bellow 1\n",
    "2. Then, do the distribution \n",
    "3. Finally compute movement frames"
   ]
  },
  {
   "cell_type": "code",
   "execution_count": null,
   "id": "c4882e84",
   "metadata": {},
   "outputs": [],
   "source": [
    "# test for a specif frame\n",
    "init_fr = 1170\n",
    "a = np.absolute(np.subtract(some_fr[init_fr][:,:,0], some_fr[init_fr-1][:,:,0]))\n",
    "fig1 = sns.kdeplot(a.mean(0), log_scale=True, label='Columns')\n",
    "fig2 = sns.kdeplot(a.mean(1), log_scale=True, label='Rows');\n",
    "kde_curve_c = fig1.lines[0]\n",
    "kde_curve_r = fig2.lines[1]\n",
    "x_c = kde_curve_c.get_xdata()\n",
    "y_c = kde_curve_c.get_ydata()\n",
    "x_r = kde_curve_r.get_xdata()\n",
    "y_r = kde_curve_r.get_ydata()\n",
    "peaks_c = np.where((y_c[1:-1] > y_c[0:-2]) * (y_c[1:-1] > y_c[2:]))[0] + 1\n",
    "dips_c = np.where((y_c[1:-1] < y_c[0:-2]) * (y_c[1:-1] < y_c[2:]))[0] + 1\n",
    "peaks_r = np.where((y_r[1:-1] > y_r[0:-2]) * (y_r[1:-1] > y_r[2:]))[0] + 1\n",
    "dips_r = np.where((y_r[1:-1] < y_r[0:-2]) * (y_r[1:-1] < y_r[2:]))[0] + 1\n",
    "plt.plot(x_c[peaks_c], y_c[peaks_c], 'o')\n",
    "plt.plot(x_c[dips_c], y_c[dips_c], 'o')\n",
    "plt.plot(x_r[peaks_r], y_r[peaks_r], 'o')\n",
    "plt.plot(x_r[dips_r], y_r[dips_r], 'o')"
   ]
  },
  {
   "cell_type": "code",
   "execution_count": null,
   "id": "91131d82",
   "metadata": {},
   "outputs": [],
   "source": [
    "plt.plot(a.mean(0))\n",
    "plt.plot(a.mean(1))"
   ]
  },
  {
   "cell_type": "code",
   "execution_count": null,
   "id": "0bc28b0d",
   "metadata": {},
   "outputs": [],
   "source": [
    "for i in a.mean(0):\n",
    "    print(i)"
   ]
  },
  {
   "cell_type": "code",
   "execution_count": null,
   "id": "66ab85b6",
   "metadata": {},
   "outputs": [],
   "source": [
    "print(len(a.mean(0)))\n",
    "print(len(a.mean(1)))"
   ]
  },
  {
   "cell_type": "code",
   "execution_count": null,
   "id": "c0fbd100",
   "metadata": {},
   "outputs": [],
   "source": [
    "new_a0 = []\n",
    "\n",
    "for i in a.mean(0):\n",
    "    if i >= 1:\n",
    "        new_a0.append(i)\n",
    "    else:\n",
    "        new_a0.append(0.001)\n",
    "        \n",
    "print(len(new_a0))"
   ]
  },
  {
   "cell_type": "code",
   "execution_count": null,
   "id": "22c4d1fd",
   "metadata": {},
   "outputs": [],
   "source": [
    "print(len(a.mean(0)))\n",
    "print(len(new_a0)) #should be the same length"
   ]
  },
  {
   "cell_type": "code",
   "execution_count": null,
   "id": "1c4512df",
   "metadata": {},
   "outputs": [],
   "source": [
    "plt.plot(a.mean(0))\n",
    "plt.plot(new_a0)"
   ]
  },
  {
   "cell_type": "code",
   "execution_count": null,
   "id": "7f2acaa4",
   "metadata": {},
   "outputs": [],
   "source": [
    "sns.kdeplot(a.mean(0), log_scale=True)\n",
    "sns.kdeplot(new_a0, log_scale=True)"
   ]
  },
  {
   "cell_type": "code",
   "execution_count": null,
   "id": "7e333a32",
   "metadata": {},
   "outputs": [],
   "source": [
    "new_a1 = []\n",
    "\n",
    "for i in a.mean(1):\n",
    "    if i >= 1:\n",
    "        new_a1.append(i)\n",
    "    else:\n",
    "        new_a1.append(0.001)"
   ]
  },
  {
   "cell_type": "code",
   "execution_count": null,
   "id": "a758fa0e",
   "metadata": {},
   "outputs": [],
   "source": [
    "print(len(a.mean(1)))\n",
    "print(len(new_a1)) #should be the same length"
   ]
  },
  {
   "cell_type": "code",
   "execution_count": null,
   "id": "37d3e84d",
   "metadata": {},
   "outputs": [],
   "source": [
    "plt.plot(a.mean(1))\n",
    "plt.plot(new_a1)"
   ]
  },
  {
   "cell_type": "code",
   "execution_count": null,
   "id": "0d3ce334",
   "metadata": {
    "scrolled": true
   },
   "outputs": [],
   "source": [
    "sns.kdeplot(a.mean(1), log_scale=True)\n",
    "sns.kdeplot(new_a1, log_scale=True)"
   ]
  },
  {
   "cell_type": "code",
   "execution_count": null,
   "id": "d86e4e62",
   "metadata": {},
   "outputs": [],
   "source": [
    "from statistics import mean\n",
    "print(mean(a.mean(0)), mean(new_a0), mean(a.mean(1)), mean(new_a1))\n",
    "# as expected"
   ]
  },
  {
   "cell_type": "markdown",
   "id": "017651d5",
   "metadata": {},
   "source": [
    "Now, instead of using the distributions, I will try to define moments when there is movement by plotting a list which is 0 whenever the mean() is 0.001 and 1 when surpassing 0.001:\n",
    "1. I need a vector with all vectors/ with all new_a0 and new_a1 for the hole video\n",
    "2. Will there be cases in which new_a0/new_a1 = 0.001 and new_a1/new_a0 > 0.001? If so, what to do about it?"
   ]
  },
  {
   "cell_type": "code",
   "execution_count": null,
   "id": "482a1ff2",
   "metadata": {},
   "outputs": [],
   "source": [
    "all_rows = []\n",
    "all_columns = []\n",
    "\n",
    "for currentFrame in range(len(some_fr)):\n",
    "    # for currentFrame in range(1, 6): # goes through the loop 5 times\n",
    "    previousFrame = currentFrame - 1\n",
    "    # changes the value of a every loop\n",
    "    a = np.absolute(np.subtract(some_fr[currentFrame][:,:,0], some_fr[previousFrame][:,:,0])) \n",
    "    all_columns.append(a.mean(0))\n",
    "    all_rows.append(a.mean(1))"
   ]
  },
  {
   "cell_type": "code",
   "execution_count": null,
   "id": "3de2eca0",
   "metadata": {},
   "outputs": [],
   "source": [
    "len(all_rows) # should be equal to some_fr"
   ]
  },
  {
   "cell_type": "code",
   "execution_count": null,
   "id": "34f0301c",
   "metadata": {},
   "outputs": [],
   "source": [
    "len(all_columns) # should be equal to some_fr"
   ]
  },
  {
   "cell_type": "code",
   "execution_count": null,
   "id": "7104ff8b",
   "metadata": {},
   "outputs": [],
   "source": [
    "# create a list of zeros and ones\n",
    "\n",
    "from statistics import mean \n",
    "\n",
    "is_moving_column = []\n",
    "\n",
    "# each column is a 'a.mean(0)'\n",
    "for column in all_columns:\n",
    "    new_a0 = []\n",
    "    for i in column:\n",
    "        if i >= 1:\n",
    "            new_a0.append(i)\n",
    "        else:\n",
    "            new_a0.append(0.001)\n",
    "    if mean(new_a0) > 0.001:\n",
    "        is_moving_column.append(1)\n",
    "    elif mean(new_a0) == 0.001:\n",
    "        is_moving_column.append(0)"
   ]
  },
  {
   "cell_type": "code",
   "execution_count": null,
   "id": "9f60dc14",
   "metadata": {},
   "outputs": [],
   "source": [
    "len(is_moving_column)"
   ]
  },
  {
   "cell_type": "code",
   "execution_count": null,
   "id": "d426954a",
   "metadata": {},
   "outputs": [],
   "source": [
    "plt.plot(is_moving_column)"
   ]
  },
  {
   "cell_type": "code",
   "execution_count": null,
   "id": "46e171c0",
   "metadata": {},
   "outputs": [],
   "source": [
    "# create a list of zeros and ones\n",
    "\n",
    "from statistics import mean \n",
    "\n",
    "is_moving_row = []\n",
    "\n",
    "# each column is a 'a.mean(0)'\n",
    "for row in all_rows:\n",
    "    new_a1 = []\n",
    "    for i in row:\n",
    "        if i >= 1:\n",
    "            new_a1.append(i)\n",
    "        else:\n",
    "            new_a1.append(0.001)\n",
    "    if mean(new_a1) > 0.001:\n",
    "        is_moving_row.append(1)\n",
    "    elif mean(new_a1) == 0.001:\n",
    "        is_moving_row.append(0)"
   ]
  },
  {
   "cell_type": "code",
   "execution_count": null,
   "id": "52b65c8d",
   "metadata": {
    "scrolled": true
   },
   "outputs": [],
   "source": [
    "len(is_moving_row)"
   ]
  },
  {
   "cell_type": "code",
   "execution_count": null,
   "id": "65009ee8",
   "metadata": {},
   "outputs": [],
   "source": [
    "plt.plot(is_moving_row)"
   ]
  },
  {
   "cell_type": "code",
   "execution_count": null,
   "id": "6c91c57a",
   "metadata": {},
   "outputs": [],
   "source": [
    "movement_occuring_ = []\n",
    "for frame in range(len(some_fr)):\n",
    "    if (is_moving_column[frame] == 1) and (is_moving_row[frame] == 1):\n",
    "        movement_occuring_.append(1)\n",
    "    else:\n",
    "        movement_occuring_.append(0)"
   ]
  },
  {
   "cell_type": "code",
   "execution_count": null,
   "id": "f194384c",
   "metadata": {},
   "outputs": [],
   "source": [
    "plt.plot(movement_occuring_, marker = 'o')"
   ]
  },
  {
   "cell_type": "markdown",
   "id": "0df3c5b2",
   "metadata": {},
   "source": [
    "Doesn't seem to be a better approach"
   ]
  },
  {
   "cell_type": "markdown",
   "id": "3669741f",
   "metadata": {},
   "source": [
    "---"
   ]
  },
  {
   "cell_type": "markdown",
   "id": "0572c9e5",
   "metadata": {},
   "source": [
    "Attempt a mixed approach in which I filter the signal (SMA) prior to applying the treshold"
   ]
  },
  {
   "cell_type": "code",
   "execution_count": null,
   "id": "3547f2d6",
   "metadata": {},
   "outputs": [],
   "source": [
    "#simple moving average of the list of mean values of pixel change per row\n",
    "import numpy as np\n",
    "def moving_average(x, w):\n",
    "    return np.convolve(x, np.ones(w), 'valid') / w"
   ]
  },
  {
   "cell_type": "code",
   "execution_count": null,
   "id": "383ce92b",
   "metadata": {},
   "outputs": [],
   "source": [
    "# test for a specif frame\n",
    "# init_fr = 1170 #grooming\n",
    "init_fr = 12 #walking\n",
    "# init_fr = 2040 #standing still\n",
    "a = np.absolute(np.subtract(some_fr[init_fr][:,:,0], some_fr[init_fr-1][:,:,0]))\n",
    "fig1 = sns.kdeplot(a.mean(0), log_scale=True, label='Columns')\n",
    "fig2 = sns.kdeplot(a.mean(1), log_scale=True, label='Rows');\n",
    "kde_curve_c = fig1.lines[0]\n",
    "kde_curve_r = fig2.lines[1]\n",
    "x_c = kde_curve_c.get_xdata()\n",
    "y_c = kde_curve_c.get_ydata()\n",
    "x_r = kde_curve_r.get_xdata()\n",
    "y_r = kde_curve_r.get_ydata()\n",
    "peaks_c = np.where((y_c[1:-1] > y_c[0:-2]) * (y_c[1:-1] > y_c[2:]))[0] + 1\n",
    "dips_c = np.where((y_c[1:-1] < y_c[0:-2]) * (y_c[1:-1] < y_c[2:]))[0] + 1\n",
    "peaks_r = np.where((y_r[1:-1] > y_r[0:-2]) * (y_r[1:-1] > y_r[2:]))[0] + 1\n",
    "dips_r = np.where((y_r[1:-1] < y_r[0:-2]) * (y_r[1:-1] < y_r[2:]))[0] + 1\n",
    "plt.plot(x_c[peaks_c], y_c[peaks_c], 'o')\n",
    "plt.plot(x_c[dips_c], y_c[dips_c], 'o')\n",
    "plt.plot(x_r[peaks_r], y_r[peaks_r], 'o')\n",
    "plt.plot(x_r[dips_r], y_r[dips_r], 'o')"
   ]
  },
  {
   "cell_type": "code",
   "execution_count": null,
   "id": "7d973d38",
   "metadata": {},
   "outputs": [],
   "source": [
    "plt.plot(a.mean(0))\n",
    "plt.plot(a.mean(1))"
   ]
  },
  {
   "cell_type": "code",
   "execution_count": null,
   "id": "2c1f3a40",
   "metadata": {},
   "outputs": [],
   "source": [
    "plt.plot(moving_average(a.mean(0), 50))\n",
    "plt.plot(moving_average(a.mean(1), 50))"
   ]
  },
  {
   "cell_type": "code",
   "execution_count": null,
   "id": "e555c32d",
   "metadata": {},
   "outputs": [],
   "source": [
    "moving_average(a.mean(0), 50)"
   ]
  },
  {
   "cell_type": "code",
   "execution_count": null,
   "id": "c562b13e",
   "metadata": {},
   "outputs": [],
   "source": [
    "new_a0_mix = []\n",
    "for i in moving_average(a.mean(0), 50):\n",
    "    if i >= 1:\n",
    "        new_a0_mix.append(i)\n",
    "    else:\n",
    "        new_a0_mix.append(0.001)"
   ]
  },
  {
   "cell_type": "code",
   "execution_count": null,
   "id": "afdff518",
   "metadata": {},
   "outputs": [],
   "source": [
    "new_a1_mix = []\n",
    "for i in moving_average(a.mean(1), 50):\n",
    "    if i >= 1:\n",
    "        new_a1_mix.append(i)\n",
    "    else:\n",
    "        new_a1_mix.append(0.001)"
   ]
  },
  {
   "cell_type": "code",
   "execution_count": null,
   "id": "a7cb1aa3",
   "metadata": {},
   "outputs": [],
   "source": [
    "plt.plot(moving_average(a.mean(0), 50))\n",
    "plt.plot(moving_average(a.mean(1), 50))\n",
    "plt.plot(new_a0_mix)\n",
    "plt.plot(new_a1_mix)"
   ]
  },
  {
   "cell_type": "code",
   "execution_count": null,
   "id": "818d89e3",
   "metadata": {},
   "outputs": [],
   "source": [
    "sns.kdeplot(moving_average(a.mean(0), 50), log_scale = True)\n",
    "sns.kdeplot(moving_average(a.mean(1), 50), log_scale = True)\n",
    "sns.kdeplot(new_a0_mix, log_scale = True)\n",
    "sns.kdeplot(new_a1_mix, log_scale = True)"
   ]
  },
  {
   "cell_type": "markdown",
   "id": "56762968",
   "metadata": {},
   "source": [
    "Loop to perform the previous operarions in all frames asigned to some_fr"
   ]
  },
  {
   "cell_type": "code",
   "execution_count": null,
   "id": "55f8d4b5",
   "metadata": {},
   "outputs": [],
   "source": [
    "# FILTERED - moving_average(a.mean(0), 50)\n",
    "all_rows = []\n",
    "all_columns = []\n",
    "\n",
    "for currentFrame in range(len(some_fr)):\n",
    "    # for currentFrame in range(1, 6): # goes through the loop 5 times\n",
    "    previousFrame = currentFrame - 1\n",
    "    # changes the value of a every loop\n",
    "    a = np.absolute(np.subtract(some_fr[currentFrame][:,:,0], some_fr[previousFrame][:,:,0])) \n",
    "    all_columns.append(moving_average(a.mean(0),50))\n",
    "    all_rows.append(moving_average(a.mean(1), 50))"
   ]
  },
  {
   "cell_type": "code",
   "execution_count": null,
   "id": "0eee4794",
   "metadata": {},
   "outputs": [],
   "source": [
    "# create a list of zeros and ones\n",
    "\n",
    "from statistics import mean \n",
    "\n",
    "is_moving_column_mix = []\n",
    "\n",
    "# each column is a 'mean_averaeg(a.mean(0), 50)'\n",
    "for column in all_columns:\n",
    "    new_a0 = []\n",
    "    for i in column:\n",
    "        if i >= 1:\n",
    "            new_a0.append(i)\n",
    "        else:\n",
    "            new_a0.append(0.001)\n",
    "    if mean(new_a0) > 0.001:\n",
    "        is_moving_column_mix.append(1)\n",
    "    elif mean(new_a0) == 0.001:\n",
    "        is_moving_column_mix.append(0)"
   ]
  },
  {
   "cell_type": "code",
   "execution_count": null,
   "id": "5590ecf6",
   "metadata": {},
   "outputs": [],
   "source": [
    "len(is_moving_column)"
   ]
  },
  {
   "cell_type": "code",
   "execution_count": null,
   "id": "290337ad",
   "metadata": {},
   "outputs": [],
   "source": [
    "plt.plot(is_moving_column_mix)"
   ]
  },
  {
   "cell_type": "code",
   "execution_count": null,
   "id": "442ba47e",
   "metadata": {},
   "outputs": [],
   "source": [
    "# create a list of zeros and ones\n",
    "\n",
    "from statistics import mean \n",
    "\n",
    "is_moving_row_mix = []\n",
    "\n",
    "# each column is a 'a.mean(0)'\n",
    "for row in all_rows:\n",
    "    new_a1 = []\n",
    "    for i in row:\n",
    "        if i >= 1:\n",
    "            new_a1.append(i)\n",
    "        else:\n",
    "            new_a1.append(0.001)\n",
    "    if mean(new_a1) > 0.001:\n",
    "        is_moving_row_mix.append(1)\n",
    "    elif mean(new_a1) == 0.001:\n",
    "        is_moving_row_mix.append(0)"
   ]
  },
  {
   "cell_type": "code",
   "execution_count": null,
   "id": "a1ea620f",
   "metadata": {},
   "outputs": [],
   "source": [
    "len(is_moving_row)"
   ]
  },
  {
   "cell_type": "code",
   "execution_count": null,
   "id": "332d7424",
   "metadata": {},
   "outputs": [],
   "source": [
    "plt.plot(is_moving_row_mix)"
   ]
  },
  {
   "cell_type": "code",
   "execution_count": null,
   "id": "06cd5357",
   "metadata": {},
   "outputs": [],
   "source": [
    "movement_occuring_mix = []\n",
    "for frame in range(len(some_fr)):\n",
    "    if (is_moving_column_mix[frame] == 1) and (is_moving_row_mix[frame] == 1):\n",
    "        movement_occuring_mix.append(1)\n",
    "    else:\n",
    "        movement_occuring_mix.append(0)"
   ]
  },
  {
   "cell_type": "code",
   "execution_count": null,
   "id": "1c3ee081",
   "metadata": {},
   "outputs": [],
   "source": [
    "plt.plot(movement_occuring_mix)"
   ]
  },
  {
   "cell_type": "markdown",
   "id": "4356f7ef",
   "metadata": {},
   "source": [
    "---"
   ]
  },
  {
   "cell_type": "markdown",
   "id": "5a10e792",
   "metadata": {},
   "source": [
    "TESTS"
   ]
  },
  {
   "cell_type": "code",
   "execution_count": null,
   "id": "2c6e82c5",
   "metadata": {},
   "outputs": [],
   "source": [
    "a = np.absolute(np.subtract(some_fr[1][:,:,0], some_fr[0][:,:,0]))\n",
    "x_data1 = sns.kdeplot(a.mean(0), log_scale=True, label='Columns').lines[0].get_xdata()\n",
    "a = np.absolute(np.subtract(some_fr[2040][:,:,0], some_fr[2039][:,:,0]))\n",
    "x_data2 = sns.kdeplot(a.mean(0), log_scale=True, label='Columns').lines[0].get_xdata()"
   ]
  },
  {
   "cell_type": "code",
   "execution_count": null,
   "id": "4c19fd12",
   "metadata": {
    "scrolled": false
   },
   "outputs": [],
   "source": [
    "x_data1 == x_data2"
   ]
  },
  {
   "cell_type": "markdown",
   "id": "ff164e88",
   "metadata": {},
   "source": [
    "fig1 and fig2 is NOT CHANGING!"
   ]
  },
  {
   "cell_type": "markdown",
   "id": "cd101b4d",
   "metadata": {},
   "source": [
    "# Until completion of the code above, DO NOT run the code bellow "
   ]
  },
  {
   "cell_type": "markdown",
   "id": "b366663a",
   "metadata": {},
   "source": [
    "#### Hartigan's diptest of unimodality"
   ]
  },
  {
   "cell_type": "code",
   "execution_count": null,
   "id": "056ec4f0",
   "metadata": {},
   "outputs": [],
   "source": [
    "pip install unidip"
   ]
  },
  {
   "cell_type": "code",
   "execution_count": null,
   "id": "af523e61",
   "metadata": {},
   "outputs": [],
   "source": [
    "import seaborn\n",
    "fig = sns.kdeplot(a.mean(0), log_scale=True, label='Columns')\n",
    "sns.kdeplot(a.mean(1), log_scale=True, label='Rows')\n",
    "fig.legend(labels=['Columns','Rows'])"
   ]
  },
  {
   "cell_type": "code",
   "execution_count": null,
   "id": "b89b1323",
   "metadata": {},
   "outputs": [],
   "source": [
    "from unidip import UniDip\n",
    "import unidip.dip as dip\n",
    "\n",
    "data = np.msort(a.mean(1))\n",
    "print(dip.diptst(data))\n",
    "intervals = UniDip(data).run()\n",
    "print(intervals)"
   ]
  },
  {
   "cell_type": "markdown",
   "id": "3684b694",
   "metadata": {},
   "source": [
    "Slider Plot"
   ]
  },
  {
   "cell_type": "code",
   "execution_count": null,
   "id": "71ee8ec8",
   "metadata": {},
   "outputs": [],
   "source": [
    "# Import libraries using import keyword\n",
    "import numpy as np\n",
    "import matplotlib.pyplot as plt\n",
    "from matplotlib.widgets import Slider, Button, RadioButtons\n",
    "import scipy.ndimage as ndi\n",
    "%matplotlib tk\n",
    "# Setting Plot and Axis variables as subplots()\n",
    "# function returns tuple(fig, ax)\n",
    "Plot, Axis = plt.subplots()\n",
    " \n",
    "# Adjust the bottom size according to the requirement of the user\n",
    "plt.subplots_adjust(bottom=0.25)\n",
    "\n",
    "#sum_abs_px.plot(linewidth=3, figsize=(12,6), color='blue')\n",
    "plt.plot(sum_abs_diff, color='magenta')\n",
    "#cutOff=? # this value is calculated in the previous cell/s\n",
    "#plt.axhline(y=cutOff, color = 'blue', linestyle = '-')\n",
    "\n",
    "# Choose the Slider color\n",
    "slider_color = 'White'\n",
    " \n",
    "# Set the axis and slider position in the plot\n",
    "axis_position = plt.axes([0.2, 0.1, 0.65, 0.03],\n",
    "                         facecolor = slider_color)\n",
    "slider_position = Slider(axis_position, 'Pos', 0, len(sum_abs_px))\n",
    " \n",
    "# update() function to change the graph when the slider is in use\n",
    "def update(val):\n",
    "    pos = slider_position.val\n",
    "    Axis.axis([pos, pos+200, 0, 3e8])\n",
    "    Plot.canvas.draw_idle()\n",
    " \n",
    "    # update function called using on_changed() function\n",
    "slider_position.on_changed(update)"
   ]
  },
  {
   "cell_type": "markdown",
   "id": "cbf60b1e",
   "metadata": {},
   "source": [
    "Kernel Density Estimation"
   ]
  },
  {
   "cell_type": "code",
   "execution_count": null,
   "id": "09a64d9b",
   "metadata": {},
   "outputs": [],
   "source": [
    "import seaborn as sns\n",
    "import numpy as np\n",
    "import matplotlib.pyplot as plt\n",
    "\n",
    "ax = sns.kdeplot(sum_abs_px, log_scale = True)\n",
    "kde_curve = ax.lines[0]\n",
    "x = kde_curve.get_xdata()\n",
    "y = kde_curve.get_ydata()\n",
    "plt.plot(x, y, color='green')"
   ]
  }
 ],
 "metadata": {
  "kernelspec": {
   "display_name": "Python 3 (ipykernel)",
   "language": "python",
   "name": "python3"
  },
  "language_info": {
   "codemirror_mode": {
    "name": "ipython",
    "version": 3
   },
   "file_extension": ".py",
   "mimetype": "text/x-python",
   "name": "python",
   "nbconvert_exporter": "python",
   "pygments_lexer": "ipython3",
   "version": "3.9.7"
  }
 },
 "nbformat": 4,
 "nbformat_minor": 5
}
