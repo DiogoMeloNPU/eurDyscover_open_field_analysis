{
 "cells": [
  {
   "cell_type": "code",
   "execution_count": 5,
   "metadata": {},
   "outputs": [],
   "source": [
    "# import the libraries needed for doing the KMeans calculations\n",
    "import matplotlib.pyplot as plt\n",
    "from sklearn.cluster import KMeans\n",
    "import pandas as pd\n",
    "import csv\n",
    "import codecs"
   ]
  },
  {
   "cell_type": "code",
   "execution_count": 19,
   "metadata": {},
   "outputs": [],
   "source": [
    "# Open the file\n",
    "tstfile= open ('TSTW9.csv', encoding='latin1') #o encoding latin1 serve para substituir os carateres especiais para o python perceber"
   ]
  },
  {
   "cell_type": "code",
   "execution_count": 21,
   "metadata": {},
   "outputs": [],
   "source": [
    "# csv.reader\n",
    "csv_tstfile= csv.reader(tstfile)"
   ]
  },
  {
   "cell_type": "code",
   "execution_count": 22,
   "metadata": {},
   "outputs": [
    {
     "data": {
      "text/plain": [
       "[['ï»¿Mouse', 'w9', 'Group'],\n",
       " ['43176', '12.03208556', 'SNLDYT'],\n",
       " ['43509', '0.943890928', 'SNLDYT'],\n",
       " ['44215', '0.37739805', 'SNLDYT'],\n",
       " ['46030', '10.19709666', 'SNLDYT'],\n",
       " ['46031', '6.383849407', 'SNLDYT'],\n",
       " ['42312', '0', 'SNLDYT'],\n",
       " ['42313', '1.518987342', 'SNLDYT'],\n",
       " ['42489', '12.80659053', 'SNLDYT'],\n",
       " ['42629', '0.916108236', 'SNLDYT'],\n",
       " ['42308', '0.719568259', 'SNLDYT'],\n",
       " ['47517', '1.035673188', 'SNLDYT'],\n",
       " ['45007', '0', 'ShamDYT'],\n",
       " ['45136', '0.56022409', 'ShamDYT'],\n",
       " ['45339', '0.434940196', 'ShamDYT'],\n",
       " ['46251', '5.204363254', 'ShamDYT'],\n",
       " ['46439', '-1', 'ShamDYT'],\n",
       " ['47276', '0.526008182', 'ShamDYT'],\n",
       " ['47506', '0', 'ShamDYT'],\n",
       " ['46761', '1.069359869', 'ShamDYT'],\n",
       " ['43180', '0', 'SNLWT'],\n",
       " ['45196', '1.450638012', 'SNLWT'],\n",
       " ['45137', '0.965665236', 'SNLWT'],\n",
       " ['42625', '0.349141693', 'SNLWT'],\n",
       " ['46432', '1.875977071', 'SNLWT'],\n",
       " ['46438', '0', 'SNLWT'],\n",
       " ['42314', '5.194805195', 'SNLWT'],\n",
       " ['42315', '0.354260972', 'SNLWT'],\n",
       " ['42353', '8.429118774', 'SNLWT'],\n",
       " ['42355', '0.359066427', 'SNLWT'],\n",
       " ['42356', '3.617363344', 'SNLWT'],\n",
       " ['46252', '0.349141693', 'SNLWT'],\n",
       " ['47006', '14.05056847', 'SNLWT'],\n",
       " ['47008', '1.611459266', 'SNLWT'],\n",
       " ['47508', '2.215384615', 'SNLWT'],\n",
       " ['122', '0', 'ShamWT'],\n",
       " ['47235', '0', 'ShamWT'],\n",
       " ['47511', '0', 'ShamWT'],\n",
       " ['47512', '0.65347613', 'ShamWT'],\n",
       " ['47514', '0', 'ShamWT']]"
      ]
     },
     "execution_count": 22,
     "metadata": {},
     "output_type": "execute_result"
    }
   ],
   "source": [
    "# reformat into a python oject list of lists\n",
    "tstfile_lines= list(csv_tstfile)\n",
    "tstfile_lines"
   ]
  },
  {
   "cell_type": "code",
   "execution_count": 28,
   "metadata": {},
   "outputs": [
    {
     "data": {
      "text/plain": [
       "array([12.03208556,  0.94389093,  0.37739805, 10.19709666,  6.38384941,\n",
       "        0.        ,  1.51898734, 12.80659053,  0.91610824,  0.71956826,\n",
       "        1.03567319,  0.        ,  0.56022409,  0.4349402 ,  5.20436325,\n",
       "       -1.        ,  0.52600818,  0.        ,  1.06935987,  0.        ,\n",
       "        1.45063801,  0.96566524,  0.34914169,  1.87597707,  0.        ,\n",
       "        5.19480519,  0.35426097,  8.42911877,  0.35906643,  3.61736334,\n",
       "        0.34914169, 14.05056847,  1.61145927,  2.21538462,  0.        ,\n",
       "        0.        ,  0.        ,  0.65347613,  0.        ])"
      ]
     },
     "execution_count": 28,
     "metadata": {},
     "output_type": "execute_result"
    }
   ],
   "source": [
    "data=pd.read_csv('TSTW9.csv')\n",
    "data.w9.values"
   ]
  },
  {
   "cell_type": "code",
   "execution_count": 23,
   "metadata": {},
   "outputs": [
    {
     "name": "stdout",
     "output_type": "stream",
     "text": [
      "['ï»¿Mouse', 'w9', 'Group']\n",
      "['43176', '12.03208556', 'SNLDYT']\n",
      "['43509', '0.943890928', 'SNLDYT']\n",
      "['44215', '0.37739805', 'SNLDYT']\n",
      "['46030', '10.19709666', 'SNLDYT']\n"
     ]
    }
   ],
   "source": [
    "# to check what is in the first line of the table\n",
    "tstfile_lines[0]\n",
    "# to check how many rows there are\n",
    "len(tstfile_lines)\n",
    "# to check what is inside each row from the begining : to number 5\n",
    "for line in tstfile_lines[:5]:\n",
    "    print (line)"
   ]
  },
  {
   "cell_type": "code",
   "execution_count": null,
   "metadata": {},
   "outputs": [],
   "source": [
    "#K means method (since it's a method that uses multivariate data, it's not the best one- a list of numbers from 1: has to be associated to the TST scores)\n",
    "data_Y = np.log10(np.array(all_mice)+1)\n",
    "data_X=range(0,len(all_mice))\n",
    "data_k=list(zip(data_Y,data_X))\n",
    "inertias = []\n",
    "\n",
    "for i in range(1,len(all_mice)):\n",
    "    print(i)\n",
    "    kmeans = KMeans(n_clusters=i)\n",
    "    kmeans.fit(data_k)\n",
    "    inertias.append(kmeans.inertia_)\n",
    "\n",
    "plt.plot(range(1,len(all_mice)), inertias, marker='o')\n",
    "plt.title('Elbow method')\n",
    "plt.xlabel('Number of clusters')\n",
    "plt.ylabel('TST')\n",
    "plt.show()"
   ]
  },
  {
   "cell_type": "code",
   "execution_count": 31,
   "metadata": {},
   "outputs": [
    {
     "ename": "ValueError",
     "evalue": "Expected 2D array, got 1D array instead:\narray=[12.03208556  0.94389093  0.37739805 10.19709666  6.38384941  0.\n  1.51898734 12.80659053  0.91610824  0.71956826  1.03567319  0.\n  0.56022409  0.4349402   5.20436325 -1.          0.52600818  0.\n  1.06935987  0.          1.45063801  0.96566524  0.34914169  1.87597707\n  0.          5.19480519  0.35426097  8.42911877  0.35906643  3.61736334\n  0.34914169 14.05056847  1.61145927  2.21538462  0.          0.\n  0.          0.65347613  0.        ].\nReshape your data either using array.reshape(-1, 1) if your data has a single feature or array.reshape(1, -1) if it contains a single sample.",
     "output_type": "error",
     "traceback": [
      "\u001b[1;31m---------------------------------------------------------------------------\u001b[0m",
      "\u001b[1;31mValueError\u001b[0m                                Traceback (most recent call last)",
      "\u001b[1;32m<ipython-input-31-ecd48723b047>\u001b[0m in \u001b[0;36m<module>\u001b[1;34m\u001b[0m\n\u001b[0;32m      4\u001b[0m \u001b[1;32mimport\u001b[0m \u001b[0mnumpy\u001b[0m \u001b[1;32mas\u001b[0m \u001b[0mnp\u001b[0m\u001b[1;33m\u001b[0m\u001b[1;33m\u001b[0m\u001b[0m\n\u001b[0;32m      5\u001b[0m \u001b[0mX\u001b[0m \u001b[1;33m=\u001b[0m \u001b[0mdata\u001b[0m\u001b[1;33m.\u001b[0m\u001b[0mw9\u001b[0m\u001b[1;33m.\u001b[0m\u001b[0mvalues\u001b[0m\u001b[1;33m\u001b[0m\u001b[1;33m\u001b[0m\u001b[0m\n\u001b[1;32m----> 6\u001b[1;33m \u001b[0mkde\u001b[0m \u001b[1;33m=\u001b[0m \u001b[0mKernelDensity\u001b[0m\u001b[1;33m(\u001b[0m\u001b[0mkernel\u001b[0m\u001b[1;33m=\u001b[0m\u001b[1;34m'gaussian'\u001b[0m\u001b[1;33m,\u001b[0m \u001b[0mbandwidth\u001b[0m\u001b[1;33m=\u001b[0m\u001b[1;36m0.2\u001b[0m\u001b[1;33m)\u001b[0m\u001b[1;33m.\u001b[0m\u001b[0mfit\u001b[0m\u001b[1;33m(\u001b[0m\u001b[0mX\u001b[0m\u001b[1;33m)\u001b[0m\u001b[1;33m\u001b[0m\u001b[1;33m\u001b[0m\u001b[0m\n\u001b[0m\u001b[0;32m      7\u001b[0m \u001b[0mkde\u001b[0m\u001b[1;33m.\u001b[0m\u001b[0mscore_samples\u001b[0m\u001b[1;33m(\u001b[0m\u001b[0mX\u001b[0m\u001b[1;33m)\u001b[0m\u001b[1;33m\u001b[0m\u001b[1;33m\u001b[0m\u001b[0m\n\u001b[0;32m      8\u001b[0m \u001b[1;33m\u001b[0m\u001b[0m\n",
      "\u001b[1;32mc:\\Users\\Filipa FB\\anaconda3\\lib\\site-packages\\sklearn\\neighbors\\_kde.py\u001b[0m in \u001b[0;36mfit\u001b[1;34m(self, X, y, sample_weight)\u001b[0m\n\u001b[0;32m    157\u001b[0m         \"\"\"\n\u001b[0;32m    158\u001b[0m         \u001b[0malgorithm\u001b[0m \u001b[1;33m=\u001b[0m \u001b[0mself\u001b[0m\u001b[1;33m.\u001b[0m\u001b[0m_choose_algorithm\u001b[0m\u001b[1;33m(\u001b[0m\u001b[0mself\u001b[0m\u001b[1;33m.\u001b[0m\u001b[0malgorithm\u001b[0m\u001b[1;33m,\u001b[0m \u001b[0mself\u001b[0m\u001b[1;33m.\u001b[0m\u001b[0mmetric\u001b[0m\u001b[1;33m)\u001b[0m\u001b[1;33m\u001b[0m\u001b[1;33m\u001b[0m\u001b[0m\n\u001b[1;32m--> 159\u001b[1;33m         \u001b[0mX\u001b[0m \u001b[1;33m=\u001b[0m \u001b[0mself\u001b[0m\u001b[1;33m.\u001b[0m\u001b[0m_validate_data\u001b[0m\u001b[1;33m(\u001b[0m\u001b[0mX\u001b[0m\u001b[1;33m,\u001b[0m \u001b[0morder\u001b[0m\u001b[1;33m=\u001b[0m\u001b[1;34m'C'\u001b[0m\u001b[1;33m,\u001b[0m \u001b[0mdtype\u001b[0m\u001b[1;33m=\u001b[0m\u001b[0mDTYPE\u001b[0m\u001b[1;33m)\u001b[0m\u001b[1;33m\u001b[0m\u001b[1;33m\u001b[0m\u001b[0m\n\u001b[0m\u001b[0;32m    160\u001b[0m \u001b[1;33m\u001b[0m\u001b[0m\n\u001b[0;32m    161\u001b[0m         \u001b[1;32mif\u001b[0m \u001b[0msample_weight\u001b[0m \u001b[1;32mis\u001b[0m \u001b[1;32mnot\u001b[0m \u001b[1;32mNone\u001b[0m\u001b[1;33m:\u001b[0m\u001b[1;33m\u001b[0m\u001b[1;33m\u001b[0m\u001b[0m\n",
      "\u001b[1;32mc:\\Users\\Filipa FB\\anaconda3\\lib\\site-packages\\sklearn\\base.py\u001b[0m in \u001b[0;36m_validate_data\u001b[1;34m(self, X, y, reset, validate_separately, **check_params)\u001b[0m\n\u001b[0;32m    418\u001b[0m                     \u001b[1;34mf\"requires y to be passed, but the target y is None.\"\u001b[0m\u001b[1;33m\u001b[0m\u001b[1;33m\u001b[0m\u001b[0m\n\u001b[0;32m    419\u001b[0m                 )\n\u001b[1;32m--> 420\u001b[1;33m             \u001b[0mX\u001b[0m \u001b[1;33m=\u001b[0m \u001b[0mcheck_array\u001b[0m\u001b[1;33m(\u001b[0m\u001b[0mX\u001b[0m\u001b[1;33m,\u001b[0m \u001b[1;33m**\u001b[0m\u001b[0mcheck_params\u001b[0m\u001b[1;33m)\u001b[0m\u001b[1;33m\u001b[0m\u001b[1;33m\u001b[0m\u001b[0m\n\u001b[0m\u001b[0;32m    421\u001b[0m             \u001b[0mout\u001b[0m \u001b[1;33m=\u001b[0m \u001b[0mX\u001b[0m\u001b[1;33m\u001b[0m\u001b[1;33m\u001b[0m\u001b[0m\n\u001b[0;32m    422\u001b[0m         \u001b[1;32melse\u001b[0m\u001b[1;33m:\u001b[0m\u001b[1;33m\u001b[0m\u001b[1;33m\u001b[0m\u001b[0m\n",
      "\u001b[1;32mc:\\Users\\Filipa FB\\anaconda3\\lib\\site-packages\\sklearn\\utils\\validation.py\u001b[0m in \u001b[0;36minner_f\u001b[1;34m(*args, **kwargs)\u001b[0m\n\u001b[0;32m     70\u001b[0m                           FutureWarning)\n\u001b[0;32m     71\u001b[0m         \u001b[0mkwargs\u001b[0m\u001b[1;33m.\u001b[0m\u001b[0mupdate\u001b[0m\u001b[1;33m(\u001b[0m\u001b[1;33m{\u001b[0m\u001b[0mk\u001b[0m\u001b[1;33m:\u001b[0m \u001b[0marg\u001b[0m \u001b[1;32mfor\u001b[0m \u001b[0mk\u001b[0m\u001b[1;33m,\u001b[0m \u001b[0marg\u001b[0m \u001b[1;32min\u001b[0m \u001b[0mzip\u001b[0m\u001b[1;33m(\u001b[0m\u001b[0msig\u001b[0m\u001b[1;33m.\u001b[0m\u001b[0mparameters\u001b[0m\u001b[1;33m,\u001b[0m \u001b[0margs\u001b[0m\u001b[1;33m)\u001b[0m\u001b[1;33m}\u001b[0m\u001b[1;33m)\u001b[0m\u001b[1;33m\u001b[0m\u001b[1;33m\u001b[0m\u001b[0m\n\u001b[1;32m---> 72\u001b[1;33m         \u001b[1;32mreturn\u001b[0m \u001b[0mf\u001b[0m\u001b[1;33m(\u001b[0m\u001b[1;33m**\u001b[0m\u001b[0mkwargs\u001b[0m\u001b[1;33m)\u001b[0m\u001b[1;33m\u001b[0m\u001b[1;33m\u001b[0m\u001b[0m\n\u001b[0m\u001b[0;32m     73\u001b[0m     \u001b[1;32mreturn\u001b[0m \u001b[0minner_f\u001b[0m\u001b[1;33m\u001b[0m\u001b[1;33m\u001b[0m\u001b[0m\n\u001b[0;32m     74\u001b[0m \u001b[1;33m\u001b[0m\u001b[0m\n",
      "\u001b[1;32mc:\\Users\\Filipa FB\\anaconda3\\lib\\site-packages\\sklearn\\utils\\validation.py\u001b[0m in \u001b[0;36mcheck_array\u001b[1;34m(array, accept_sparse, accept_large_sparse, dtype, order, copy, force_all_finite, ensure_2d, allow_nd, ensure_min_samples, ensure_min_features, estimator)\u001b[0m\n\u001b[0;32m    617\u001b[0m             \u001b[1;31m# If input is 1D raise error\u001b[0m\u001b[1;33m\u001b[0m\u001b[1;33m\u001b[0m\u001b[1;33m\u001b[0m\u001b[0m\n\u001b[0;32m    618\u001b[0m             \u001b[1;32mif\u001b[0m \u001b[0marray\u001b[0m\u001b[1;33m.\u001b[0m\u001b[0mndim\u001b[0m \u001b[1;33m==\u001b[0m \u001b[1;36m1\u001b[0m\u001b[1;33m:\u001b[0m\u001b[1;33m\u001b[0m\u001b[1;33m\u001b[0m\u001b[0m\n\u001b[1;32m--> 619\u001b[1;33m                 raise ValueError(\n\u001b[0m\u001b[0;32m    620\u001b[0m                     \u001b[1;34m\"Expected 2D array, got 1D array instead:\\narray={}.\\n\"\u001b[0m\u001b[1;33m\u001b[0m\u001b[1;33m\u001b[0m\u001b[0m\n\u001b[0;32m    621\u001b[0m                     \u001b[1;34m\"Reshape your data either using array.reshape(-1, 1) if \"\u001b[0m\u001b[1;33m\u001b[0m\u001b[1;33m\u001b[0m\u001b[0m\n",
      "\u001b[1;31mValueError\u001b[0m: Expected 2D array, got 1D array instead:\narray=[12.03208556  0.94389093  0.37739805 10.19709666  6.38384941  0.\n  1.51898734 12.80659053  0.91610824  0.71956826  1.03567319  0.\n  0.56022409  0.4349402   5.20436325 -1.          0.52600818  0.\n  1.06935987  0.          1.45063801  0.96566524  0.34914169  1.87597707\n  0.          5.19480519  0.35426097  8.42911877  0.35906643  3.61736334\n  0.34914169 14.05056847  1.61145927  2.21538462  0.          0.\n  0.          0.65347613  0.        ].\nReshape your data either using array.reshape(-1, 1) if your data has a single feature or array.reshape(1, -1) if it contains a single sample."
     ]
    }
   ],
   "source": [
    "#kernel density  (Gaussian, using scikit learn)\n",
    "#import libraries\n",
    "from sklearn.neighbors import KernelDensity\n",
    "import numpy as np\n",
    "X = data.w9.values\n",
    "kde = KernelDensity(kernel='gaussian', bandwidth=0.2).fit(X)\n",
    "kde.score_samples(X)\n",
    "\n"
   ]
  },
  {
   "cell_type": "code",
   "execution_count": null,
   "metadata": {},
   "outputs": [],
   "source": [
    "wh35h3h"
   ]
  }
 ],
 "metadata": {
  "kernelspec": {
   "display_name": "Python 3.8.5 ('base')",
   "language": "python",
   "name": "python3"
  },
  "language_info": {
   "codemirror_mode": {
    "name": "ipython",
    "version": 3
   },
   "file_extension": ".py",
   "mimetype": "text/x-python",
   "name": "python",
   "nbconvert_exporter": "python",
   "pygments_lexer": "ipython3",
   "version": "3.8.5"
  },
  "orig_nbformat": 4,
  "vscode": {
   "interpreter": {
    "hash": "f71e5fc2b982de6ccb6f14eb9ee899afc7a31db47dd906a9b82121f29d487184"
   }
  }
 },
 "nbformat": 4,
 "nbformat_minor": 2
}
